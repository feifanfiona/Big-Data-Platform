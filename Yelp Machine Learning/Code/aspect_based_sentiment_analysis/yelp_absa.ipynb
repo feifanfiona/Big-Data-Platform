{
 "cells": [
  {
   "cell_type": "markdown",
   "metadata": {
    "id": "KkeqSGefIJW-"
   },
   "source": [
    "# **Aspect Based Sentiment Analysis in Spark NLP**\n",
    "\n",
    "#### Model Details: https://nlp.johnsnowlabs.com/2020/12/29/ner_aspect_based_sentiment_en.html"
   ]
  },
  {
   "cell_type": "markdown",
   "metadata": {
    "id": "bhA_CmHaIRQz"
   },
   "source": [
    "### Spark NLP documentation and instructions:\n",
    "https://nlp.johnsnowlabs.com/docs/en/quickstart\n",
    "\n",
    "### You can find details about Spark NLP annotators here:\n",
    "https://nlp.johnsnowlabs.com/docs/en/annotators\n",
    "\n",
    "### You can find details about Spark NLP models here:\n",
    "https://nlp.johnsnowlabs.com/models\n"
   ]
  },
  {
   "cell_type": "markdown",
   "metadata": {
    "id": "PbO7pJJqIV_T"
   },
   "source": [
    "## 1. Colab Setup"
   ]
  },
  {
   "cell_type": "markdown",
   "metadata": {
    "id": "Pgtx3Ji1JK2W"
   },
   "source": [
    "Install Dependencies and Libraries"
   ]
  },
  {
   "cell_type": "code",
   "execution_count": null,
   "metadata": {
    "id": "LWoA7SChHu41"
   },
   "outputs": [],
   "source": [
    "# Install PySpark and Spark NLP\n",
    "#! pip install -q pyspark==3.1.2 spark-nlp\n",
    "\n",
    "# Install Spark NLP Display lib\n",
    "#! pip install --upgrade -q spark-nlp-display"
   ]
  },
  {
   "cell_type": "code",
   "execution_count": null,
   "metadata": {
    "id": "mMlKTnNLZjcA"
   },
   "outputs": [],
   "source": []
  },
  {
   "cell_type": "code",
   "execution_count": null,
   "metadata": {
    "id": "MCBwBMtxY8Q2"
   },
   "outputs": [],
   "source": [
    "#import gc"
   ]
  },
  {
   "cell_type": "code",
   "execution_count": null,
   "metadata": {
    "colab": {
     "base_uri": "https://localhost:8080/"
    },
    "executionInfo": {
     "elapsed": 3225,
     "status": "ok",
     "timestamp": 1647227173350,
     "user": {
      "displayName": "YI ZHOU",
      "photoUrl": "https://lh3.googleusercontent.com/a-/AOh14GjjCQPOQv-2ZfypW6qSjYGwpPtinqgeq4MhLXmW=s64",
      "userId": "06920081129849643993"
     },
     "user_tz": 300
    },
    "id": "VY7GPQXuY9ZE",
    "outputId": "95f04d78-3fac-47be-aff8-62bb7b3865e3"
   },
   "outputs": [
    {
     "name": "stderr",
     "output_type": "stream",
     "text": [
      "ERROR:py4j.java_gateway:An error occurred while trying to connect to the Java server (127.0.0.1:35511)\n",
      "Traceback (most recent call last):\n",
      "  File \"/usr/local/lib/python3.7/dist-packages/py4j/java_gateway.py\", line 977, in _get_connection\n",
      "    connection = self.deque.pop()\n",
      "IndexError: pop from an empty deque\n",
      "\n",
      "During handling of the above exception, another exception occurred:\n",
      "\n",
      "Traceback (most recent call last):\n",
      "  File \"/usr/local/lib/python3.7/dist-packages/py4j/java_gateway.py\", line 1115, in start\n",
      "    self.socket.connect((self.address, self.port))\n",
      "ConnectionRefusedError: [Errno 111] Connection refused\n"
     ]
    },
    {
     "data": {
      "text/plain": [
       "1413"
      ]
     },
     "execution_count": 209,
     "metadata": {},
     "output_type": "execute_result"
    }
   ],
   "source": [
    "#gc.collect()"
   ]
  },
  {
   "cell_type": "markdown",
   "metadata": {
    "id": "vt4GalFKIasv"
   },
   "source": [
    "Import and start the Spark session"
   ]
  },
  {
   "cell_type": "code",
   "execution_count": null,
   "metadata": {
    "colab": {
     "base_uri": "https://localhost:8080/",
     "height": 70
    },
    "executionInfo": {
     "elapsed": 25255,
     "status": "ok",
     "timestamp": 1647227504433,
     "user": {
      "displayName": "YI ZHOU",
      "photoUrl": "https://lh3.googleusercontent.com/a-/AOh14GjjCQPOQv-2ZfypW6qSjYGwpPtinqgeq4MhLXmW=s64",
      "userId": "06920081129849643993"
     },
     "user_tz": 300
    },
    "id": "gdmZSvJNIeQP",
    "outputId": "75a8e929-3671-477f-a4e9-636f0cca04f7"
   },
   "outputs": [
    {
     "data": {
      "application/vnd.google.colaboratory.intrinsic+json": {
       "type": "string"
      },
      "text/plain": [
       "\"\\nspark = SparkSession.builder     .appName('Spark NLP Licensed')     .master('local[*]')     .config('spark.driver.memory', '16G')     .config('spark.serializer', 'org.apache.spark.serializer.KryoSerializer')     .config('spark.kryoserializer.buffer.max', '2000M')     .config('spark.jars.packages', 'com.johnsnowlabs.nlp:spark-nlp_2.11:' +sparknlp.version()).getOrCreate()\\n\""
      ]
     },
     "execution_count": 1,
     "metadata": {},
     "output_type": "execute_result"
    }
   ],
   "source": [
    "import pandas as pd\n",
    "from pyspark.ml import Pipeline\n",
    "from pyspark.sql import SparkSession\n",
    "import pyspark.sql.functions as F\n",
    "\n",
    "import sparknlp\n",
    "from sparknlp.annotator import *\n",
    "from sparknlp.base import *\n",
    "\n",
    "spark = sparknlp.start()\n",
    "\n",
    "# manually start session\n",
    "'''\n",
    "spark = SparkSession.builder \\\n",
    "    .appName('Spark NLP Licensed') \\\n",
    "    .master('local[*]') \\\n",
    "    .config('spark.driver.memory', '16G') \\\n",
    "    .config('spark.serializer', 'org.apache.spark.serializer.KryoSerializer') \\\n",
    "    .config('spark.kryoserializer.buffer.max', '2000M') \\\n",
    "    .config('spark.jars.packages', 'com.johnsnowlabs.nlp:spark-nlp_2.11:' +sparknlp.version()).getOrCreate()\n",
    "'''"
   ]
  },
  {
   "cell_type": "markdown",
   "metadata": {
    "id": "EBW8SeRnIf1-"
   },
   "source": [
    "##2. Build Pipeline"
   ]
  },
  {
   "cell_type": "code",
   "execution_count": null,
   "metadata": {
    "colab": {
     "base_uri": "https://localhost:8080/"
    },
    "executionInfo": {
     "elapsed": 30317,
     "status": "ok",
     "timestamp": 1647227551455,
     "user": {
      "displayName": "YI ZHOU",
      "photoUrl": "https://lh3.googleusercontent.com/a-/AOh14GjjCQPOQv-2ZfypW6qSjYGwpPtinqgeq4MhLXmW=s64",
      "userId": "06920081129849643993"
     },
     "user_tz": 300
    },
    "id": "5FzKvkdBHu44",
    "outputId": "0278928a-3a49-47a7-a6ac-b4b1727e880f"
   },
   "outputs": [
    {
     "name": "stdout",
     "output_type": "stream",
     "text": [
      "glove_6B_300 download started this may take some time.\n",
      "Approximate size to download 426.2 MB\n",
      "[OK!]\n",
      "ner_aspect_based_sentiment download started this may take some time.\n",
      "Approximate size to download 21.3 MB\n",
      "[OK!]\n"
     ]
    }
   ],
   "source": [
    "document_assembler = DocumentAssembler() \\\n",
    "    .setInputCol('text')\\\n",
    "    .setOutputCol('document')\n",
    "\n",
    "sentence_detector = SentenceDetector() \\\n",
    "    .setInputCols(['document'])\\\n",
    "    .setOutputCol('sentence')\n",
    "\n",
    "tokenizer = Tokenizer()\\\n",
    "    .setInputCols(['sentence']) \\\n",
    "    .setOutputCol('token')\n",
    "\n",
    "word_embeddings = WordEmbeddingsModel.pretrained(\"glove_6B_300\", \"xx\")\\\n",
    "    .setInputCols([\"document\", \"token\"])\\\n",
    "    .setOutputCol(\"embeddings\")\n",
    "    \n",
    "ner_model = NerDLModel.pretrained(\"ner_aspect_based_sentiment\")\\\n",
    "    .setInputCols([\"document\", \"token\", \"embeddings\"])\\\n",
    "    .setOutputCol(\"ner\")\n",
    "\n",
    "ner_converter = NerConverter()\\\n",
    "    .setInputCols(['sentence', 'token', 'ner']) \\\n",
    "    .setOutputCol('ner_chunk')\n",
    "\n",
    "nlp_pipeline = Pipeline(stages=[\n",
    "    document_assembler, \n",
    "    sentence_detector,\n",
    "    tokenizer,\n",
    "    word_embeddings,\n",
    "    ner_model,\n",
    "    ner_converter])\n",
    "\n",
    "empty_df = spark.createDataFrame([['']]).toDF('text')\n",
    "pipeline_model = nlp_pipeline.fit(empty_df)\n",
    "light_pipeline = LightPipeline(pipeline_model)"
   ]
  },
  {
   "cell_type": "code",
   "execution_count": null,
   "metadata": {
    "colab": {
     "base_uri": "https://localhost:8080/"
    },
    "executionInfo": {
     "elapsed": 2016,
     "status": "ok",
     "timestamp": 1647212195432,
     "user": {
      "displayName": "YI ZHOU",
      "photoUrl": "https://lh3.googleusercontent.com/a-/AOh14GjjCQPOQv-2ZfypW6qSjYGwpPtinqgeq4MhLXmW=s64",
      "userId": "06920081129849643993"
     },
     "user_tz": 300
    },
    "id": "nLYAGLh4bw2m",
    "outputId": "7311f29c-0936-4514-cda7-79f7748f1973"
   },
   "outputs": [
    {
     "name": "stdout",
     "output_type": "stream",
     "text": [
      "Updated property [core/project].\n"
     ]
    }
   ],
   "source": [
    "'''\n",
    "from google.colab import auth\n",
    "auth.authenticate_user()\n",
    "\n",
    "# https://cloud.google.com/resource-manager/docs/creating-managing-projects\n",
    "project_id = 'iconic-being-343500'\n",
    "!gcloud config set project {project_id}\n",
    "'''"
   ]
  },
  {
   "cell_type": "code",
   "execution_count": null,
   "metadata": {
    "colab": {
     "base_uri": "https://localhost:8080/"
    },
    "executionInfo": {
     "elapsed": 71454,
     "status": "ok",
     "timestamp": 1647213116904,
     "user": {
      "displayName": "YI ZHOU",
      "photoUrl": "https://lh3.googleusercontent.com/a-/AOh14GjjCQPOQv-2ZfypW6qSjYGwpPtinqgeq4MhLXmW=s64",
      "userId": "06920081129849643993"
     },
     "user_tz": 300
    },
    "id": "pOWtZntnbxBv",
    "outputId": "21c379f8-200b-4ca6-cec9-b2341e4ac7b9"
   },
   "outputs": [
    {
     "name": "stdout",
     "output_type": "stream",
     "text": [
      "Copying gs://datasetsbdp/dataset_review.json...\n",
      "\\ [1 files][  5.0 GiB/  5.0 GiB]   48.7 MiB/s                                   \n",
      "Operation completed over 1 objects/5.0 GiB.                                      \n"
     ]
    }
   ],
   "source": [
    "'''\n",
    "# Download the file from a given Google Cloud Storage bucket.\n",
    "bucket_name='datasetsbdp'\n",
    "!gsutil cp gs://{bucket_name}/dataset_review.json /content/sample_data/dataset_review.json\n",
    "  \n",
    "# Print the result to make sure the transfer worked.\n",
    "#!cat /tmp/gsutil_download.json\n",
    "'''"
   ]
  },
  {
   "cell_type": "code",
   "execution_count": null,
   "metadata": {
    "id": "PtYlI48-j_2w"
   },
   "outputs": [],
   "source": []
  },
  {
   "cell_type": "code",
   "execution_count": null,
   "metadata": {
    "id": "vxvVsFX5t60w"
   },
   "outputs": [],
   "source": [
    "import pandas as pd"
   ]
  },
  {
   "cell_type": "code",
   "execution_count": null,
   "metadata": {
    "id": "ec7DWeZguRsZ"
   },
   "outputs": [],
   "source": [
    "file_name = \"/content/genotext_test\""
   ]
  },
  {
   "cell_type": "code",
   "execution_count": null,
   "metadata": {
    "id": "m40C_Mf-tEgo"
   },
   "outputs": [],
   "source": [
    "review=pd.read_csv(file_name,header=None,index_col=False)"
   ]
  },
  {
   "cell_type": "code",
   "execution_count": null,
   "metadata": {
    "id": "_-yZdN2BItBc"
   },
   "outputs": [],
   "source": [
    "review.columns =['text']"
   ]
  },
  {
   "cell_type": "code",
   "execution_count": null,
   "metadata": {
    "colab": {
     "base_uri": "https://localhost:8080/",
     "height": 423
    },
    "executionInfo": {
     "elapsed": 268,
     "status": "ok",
     "timestamp": 1647227643631,
     "user": {
      "displayName": "YI ZHOU",
      "photoUrl": "https://lh3.googleusercontent.com/a-/AOh14GjjCQPOQv-2ZfypW6qSjYGwpPtinqgeq4MhLXmW=s64",
      "userId": "06920081129849643993"
     },
     "user_tz": 300
    },
    "id": "88p0Vu0ILUMA",
    "outputId": "e6daaf25-cdd6-4a9d-ee79-de7683013fdd"
   },
   "outputs": [
    {
     "data": {
      "text/html": [
       "\n",
       "  <div id=\"df-b718d45f-4fee-414d-accc-d6e507b6ea57\">\n",
       "    <div class=\"colab-df-container\">\n",
       "      <div>\n",
       "<style scoped>\n",
       "    .dataframe tbody tr th:only-of-type {\n",
       "        vertical-align: middle;\n",
       "    }\n",
       "\n",
       "    .dataframe tbody tr th {\n",
       "        vertical-align: top;\n",
       "    }\n",
       "\n",
       "    .dataframe thead th {\n",
       "        text-align: right;\n",
       "    }\n",
       "</style>\n",
       "<table border=\"1\" class=\"dataframe\">\n",
       "  <thead>\n",
       "    <tr style=\"text-align: right;\">\n",
       "      <th></th>\n",
       "      <th>text</th>\n",
       "    </tr>\n",
       "  </thead>\n",
       "  <tbody>\n",
       "    <tr>\n",
       "      <th>0</th>\n",
       "      <td>Meh  Not too impressed So I had to do the Pat ...</td>\n",
       "    </tr>\n",
       "    <tr>\n",
       "      <th>1</th>\n",
       "      <td>We arrived here just after midnight and had no...</td>\n",
       "    </tr>\n",
       "    <tr>\n",
       "      <th>2</th>\n",
       "      <td>Both the cheese steak and the freedom fries we...</td>\n",
       "    </tr>\n",
       "    <tr>\n",
       "      <th>3</th>\n",
       "      <td>Kind of disappointed that after waiting    min...</td>\n",
       "    </tr>\n",
       "    <tr>\n",
       "      <th>4</th>\n",
       "      <td>Yeah  there s a rivalry with Pat s  Yeah  they...</td>\n",
       "    </tr>\n",
       "    <tr>\n",
       "      <th>...</th>\n",
       "      <td>...</td>\n",
       "    </tr>\n",
       "    <tr>\n",
       "      <th>3423</th>\n",
       "      <td>So I believe in schemes and conspiracy theorie...</td>\n",
       "    </tr>\n",
       "    <tr>\n",
       "      <th>3424</th>\n",
       "      <td>Let s see what adjectives come to mind when I ...</td>\n",
       "    </tr>\n",
       "    <tr>\n",
       "      <th>3425</th>\n",
       "      <td>We love this place   My family comes here ever...</td>\n",
       "    </tr>\n",
       "    <tr>\n",
       "      <th>3426</th>\n",
       "      <td>First of All        for a crappy cheese steak ...</td>\n",
       "    </tr>\n",
       "    <tr>\n",
       "      <th>3427</th>\n",
       "      <td>I was told to avoid Genos and Pats as they are...</td>\n",
       "    </tr>\n",
       "  </tbody>\n",
       "</table>\n",
       "<p>3428 rows × 1 columns</p>\n",
       "</div>\n",
       "      <button class=\"colab-df-convert\" onclick=\"convertToInteractive('df-b718d45f-4fee-414d-accc-d6e507b6ea57')\"\n",
       "              title=\"Convert this dataframe to an interactive table.\"\n",
       "              style=\"display:none;\">\n",
       "        \n",
       "  <svg xmlns=\"http://www.w3.org/2000/svg\" height=\"24px\"viewBox=\"0 0 24 24\"\n",
       "       width=\"24px\">\n",
       "    <path d=\"M0 0h24v24H0V0z\" fill=\"none\"/>\n",
       "    <path d=\"M18.56 5.44l.94 2.06.94-2.06 2.06-.94-2.06-.94-.94-2.06-.94 2.06-2.06.94zm-11 1L8.5 8.5l.94-2.06 2.06-.94-2.06-.94L8.5 2.5l-.94 2.06-2.06.94zm10 10l.94 2.06.94-2.06 2.06-.94-2.06-.94-.94-2.06-.94 2.06-2.06.94z\"/><path d=\"M17.41 7.96l-1.37-1.37c-.4-.4-.92-.59-1.43-.59-.52 0-1.04.2-1.43.59L10.3 9.45l-7.72 7.72c-.78.78-.78 2.05 0 2.83L4 21.41c.39.39.9.59 1.41.59.51 0 1.02-.2 1.41-.59l7.78-7.78 2.81-2.81c.8-.78.8-2.07 0-2.86zM5.41 20L4 18.59l7.72-7.72 1.47 1.35L5.41 20z\"/>\n",
       "  </svg>\n",
       "      </button>\n",
       "      \n",
       "  <style>\n",
       "    .colab-df-container {\n",
       "      display:flex;\n",
       "      flex-wrap:wrap;\n",
       "      gap: 12px;\n",
       "    }\n",
       "\n",
       "    .colab-df-convert {\n",
       "      background-color: #E8F0FE;\n",
       "      border: none;\n",
       "      border-radius: 50%;\n",
       "      cursor: pointer;\n",
       "      display: none;\n",
       "      fill: #1967D2;\n",
       "      height: 32px;\n",
       "      padding: 0 0 0 0;\n",
       "      width: 32px;\n",
       "    }\n",
       "\n",
       "    .colab-df-convert:hover {\n",
       "      background-color: #E2EBFA;\n",
       "      box-shadow: 0px 1px 2px rgba(60, 64, 67, 0.3), 0px 1px 3px 1px rgba(60, 64, 67, 0.15);\n",
       "      fill: #174EA6;\n",
       "    }\n",
       "\n",
       "    [theme=dark] .colab-df-convert {\n",
       "      background-color: #3B4455;\n",
       "      fill: #D2E3FC;\n",
       "    }\n",
       "\n",
       "    [theme=dark] .colab-df-convert:hover {\n",
       "      background-color: #434B5C;\n",
       "      box-shadow: 0px 1px 3px 1px rgba(0, 0, 0, 0.15);\n",
       "      filter: drop-shadow(0px 1px 2px rgba(0, 0, 0, 0.3));\n",
       "      fill: #FFFFFF;\n",
       "    }\n",
       "  </style>\n",
       "\n",
       "      <script>\n",
       "        const buttonEl =\n",
       "          document.querySelector('#df-b718d45f-4fee-414d-accc-d6e507b6ea57 button.colab-df-convert');\n",
       "        buttonEl.style.display =\n",
       "          google.colab.kernel.accessAllowed ? 'block' : 'none';\n",
       "\n",
       "        async function convertToInteractive(key) {\n",
       "          const element = document.querySelector('#df-b718d45f-4fee-414d-accc-d6e507b6ea57');\n",
       "          const dataTable =\n",
       "            await google.colab.kernel.invokeFunction('convertToInteractive',\n",
       "                                                     [key], {});\n",
       "          if (!dataTable) return;\n",
       "\n",
       "          const docLinkHtml = 'Like what you see? Visit the ' +\n",
       "            '<a target=\"_blank\" href=https://colab.research.google.com/notebooks/data_table.ipynb>data table notebook</a>'\n",
       "            + ' to learn more about interactive tables.';\n",
       "          element.innerHTML = '';\n",
       "          dataTable['output_type'] = 'display_data';\n",
       "          await google.colab.output.renderOutput(dataTable, element);\n",
       "          const docLink = document.createElement('div');\n",
       "          docLink.innerHTML = docLinkHtml;\n",
       "          element.appendChild(docLink);\n",
       "        }\n",
       "      </script>\n",
       "    </div>\n",
       "  </div>\n",
       "  "
      ],
      "text/plain": [
       "                                                   text\n",
       "0     Meh  Not too impressed So I had to do the Pat ...\n",
       "1     We arrived here just after midnight and had no...\n",
       "2     Both the cheese steak and the freedom fries we...\n",
       "3     Kind of disappointed that after waiting    min...\n",
       "4     Yeah  there s a rivalry with Pat s  Yeah  they...\n",
       "...                                                 ...\n",
       "3423  So I believe in schemes and conspiracy theorie...\n",
       "3424  Let s see what adjectives come to mind when I ...\n",
       "3425  We love this place   My family comes here ever...\n",
       "3426  First of All        for a crappy cheese steak ...\n",
       "3427  I was told to avoid Genos and Pats as they are...\n",
       "\n",
       "[3428 rows x 1 columns]"
      ]
     },
     "execution_count": 7,
     "metadata": {},
     "output_type": "execute_result"
    }
   ],
   "source": [
    "review"
   ]
  },
  {
   "cell_type": "markdown",
   "metadata": {
    "id": "nzf1KWDzJhk2"
   },
   "source": [
    "## 3. Create example inputs"
   ]
  },
  {
   "cell_type": "code",
   "execution_count": null,
   "metadata": {
    "id": "ia62w7BlJW_z"
   },
   "outputs": [],
   "source": [
    "#input_list=[text_list[2]]"
   ]
  },
  {
   "cell_type": "code",
   "execution_count": null,
   "metadata": {
    "colab": {
     "base_uri": "https://localhost:8080/"
    },
    "executionInfo": {
     "elapsed": 257,
     "status": "ok",
     "timestamp": 1647225312116,
     "user": {
      "displayName": "YI ZHOU",
      "photoUrl": "https://lh3.googleusercontent.com/a-/AOh14GjjCQPOQv-2ZfypW6qSjYGwpPtinqgeq4MhLXmW=s64",
      "userId": "06920081129849643993"
     },
     "user_tz": 300
    },
    "id": "hR5oBJvKQ9nA",
    "outputId": "c780c69f-27e5-45f4-d053-41eb5785c501"
   },
   "outputs": [
    {
     "data": {
      "text/plain": [
       "['Both the cheese steak and the freedom fries were not that tasty  I was a bit disappointed']"
      ]
     },
     "execution_count": 149,
     "metadata": {},
     "output_type": "execute_result"
    }
   ],
   "source": [
    "#input_list"
   ]
  },
  {
   "cell_type": "code",
   "execution_count": null,
   "metadata": {
    "id": "TOGmXRQ0Jw6X"
   },
   "outputs": [],
   "source": [
    "'''\n",
    "# Enter examples as strings in this array\n",
    "input_list = [\n",
    "    \"\"\"From the beginning, we were met by friendly staff members, and the convienent parking at Chelsea Piers made it easy for us to get to the boat.\"\"\"]\n",
    "'''\n"
   ]
  },
  {
   "cell_type": "markdown",
   "metadata": {
    "id": "-W10hpftJ0D5"
   },
   "source": [
    "## 4. Run the pipeline"
   ]
  },
  {
   "cell_type": "markdown",
   "metadata": {
    "id": "f9BMNDC8MSeS"
   },
   "source": [
    "Full Pipeline (Expects a spark Data Frame)"
   ]
  },
  {
   "cell_type": "code",
   "execution_count": null,
   "metadata": {
    "id": "2liDaTBhTRF1"
   },
   "outputs": [],
   "source": [
    "#text_list[0]"
   ]
  },
  {
   "cell_type": "code",
   "execution_count": null,
   "metadata": {
    "colab": {
     "base_uri": "https://localhost:8080/"
    },
    "executionInfo": {
     "elapsed": 278,
     "status": "ok",
     "timestamp": 1647225808048,
     "user": {
      "displayName": "YI ZHOU",
      "photoUrl": "https://lh3.googleusercontent.com/a-/AOh14GjjCQPOQv-2ZfypW6qSjYGwpPtinqgeq4MhLXmW=s64",
      "userId": "06920081129849643993"
     },
     "user_tz": 300
    },
    "id": "vIM8GV6bTqHk",
    "outputId": "c291eae4-59a8-4684-a93e-29e49491bc80"
   },
   "outputs": [
    {
     "data": {
      "text/plain": [
       "['Both the cheese steak and the freedom fries were not that tasty  I was a bit disappointed']"
      ]
     },
     "execution_count": 173,
     "metadata": {},
     "output_type": "execute_result"
    }
   ],
   "source": [
    "#input_list"
   ]
  },
  {
   "cell_type": "code",
   "execution_count": null,
   "metadata": {
    "id": "bAdIbN4rJzXh"
   },
   "outputs": [],
   "source": [
    "#df = spark.createDataFrame(pd.DataFrame({\"text\": input_list}))\n"
   ]
  },
  {
   "cell_type": "code",
   "execution_count": null,
   "metadata": {
    "id": "bzZ0gT70UYY2"
   },
   "outputs": [],
   "source": [
    "df = spark.createDataFrame(pd.DataFrame(review))\n"
   ]
  },
  {
   "cell_type": "code",
   "execution_count": null,
   "metadata": {
    "id": "--nFsjfhTonQ"
   },
   "outputs": [],
   "source": [
    "result = pipeline_model.transform(df)"
   ]
  },
  {
   "cell_type": "code",
   "execution_count": null,
   "metadata": {
    "colab": {
     "base_uri": "https://localhost:8080/"
    },
    "executionInfo": {
     "elapsed": 10393,
     "status": "ok",
     "timestamp": 1647227671425,
     "user": {
      "displayName": "YI ZHOU",
      "photoUrl": "https://lh3.googleusercontent.com/a-/AOh14GjjCQPOQv-2ZfypW6qSjYGwpPtinqgeq4MhLXmW=s64",
      "userId": "06920081129849643993"
     },
     "user_tz": 300
    },
    "id": "yhTBsNPnXCLh",
    "outputId": "1e8a1c1b-ea7f-4740-dac1-923c6c253224"
   },
   "outputs": [
    {
     "name": "stdout",
     "output_type": "stream",
     "text": [
      "+--------------------+--------------------+--------------------+--------------------+--------------------+--------------------+--------------------+\n",
      "|                text|            document|            sentence|               token|          embeddings|                 ner|           ner_chunk|\n",
      "+--------------------+--------------------+--------------------+--------------------+--------------------+--------------------+--------------------+\n",
      "|Meh  Not too impr...|[{document, 0, 12...|[{document, 0, 12...|[{token, 0, 2, Me...|[{word_embeddings...|[{named_entity, 0...|[{chunk, 42, 44, ...|\n",
      "|We arrived here j...|[{document, 0, 61...|[{document, 0, 61...|[{token, 0, 1, We...|[{word_embeddings...|[{named_entity, 0...|[{chunk, 68, 72, ...|\n",
      "|Both the cheese s...|[{document, 0, 88...|[{document, 0, 88...|[{token, 0, 3, Bo...|[{word_embeddings...|[{named_entity, 0...|[{chunk, 9, 20, c...|\n",
      "|Kind of disappoin...|[{document, 0, 84...|[{document, 0, 84...|[{token, 0, 3, Ki...|[{word_embeddings...|[{named_entity, 0...|[{chunk, 32, 38, ...|\n",
      "|Yeah  there s a r...|[{document, 0, 38...|[{document, 0, 38...|[{token, 0, 3, Ye...|[{word_embeddings...|[{named_entity, 0...|                  []|\n",
      "+--------------------+--------------------+--------------------+--------------------+--------------------+--------------------+--------------------+\n",
      "only showing top 5 rows\n",
      "\n"
     ]
    }
   ],
   "source": [
    "result.show(5)"
   ]
  },
  {
   "cell_type": "markdown",
   "metadata": {
    "id": "mHYdK2aKMXaC"
   },
   "source": [
    "Light Pipeline (Expects a list of string)"
   ]
  },
  {
   "cell_type": "code",
   "execution_count": null,
   "metadata": {
    "id": "OrEfJogLMaZP"
   },
   "outputs": [],
   "source": [
    "'''\n",
    "lresult = light_pipeline.fullAnnotate(input_list)\n",
    "'''"
   ]
  },
  {
   "cell_type": "markdown",
   "metadata": {
    "id": "TnPhWxstJ53j"
   },
   "source": [
    "## 5. Visualize results"
   ]
  },
  {
   "cell_type": "markdown",
   "metadata": {
    "id": "S1tfkrE1MmfN"
   },
   "source": [
    "Full Pipeline Result"
   ]
  },
  {
   "cell_type": "code",
   "execution_count": null,
   "metadata": {
    "colab": {
     "base_uri": "https://localhost:8080/",
     "height": 87
    },
    "executionInfo": {
     "elapsed": 1033,
     "status": "ok",
     "timestamp": 1647225375957,
     "user": {
      "displayName": "YI ZHOU",
      "photoUrl": "https://lh3.googleusercontent.com/a-/AOh14GjjCQPOQv-2ZfypW6qSjYGwpPtinqgeq4MhLXmW=s64",
      "userId": "06920081129849643993"
     },
     "user_tz": 300
    },
    "id": "xXjYtpVuURln",
    "outputId": "d40b2ad2-f8cf-4e4f-9425-e44dabf15baf"
   },
   "outputs": [
    {
     "data": {
      "text/html": [
       "\n",
       "<style>\n",
       "    @import url('https://fonts.googleapis.com/css2?family=Montserrat:wght@300;400;500;600;700&display=swap');\n",
       "    @import url('https://fonts.googleapis.com/css2?family=Vistol Regular:wght@300;400;500;600;700&display=swap');\n",
       "    \n",
       "    .spark-nlp-display-scroll-entities {\n",
       "        border: 1px solid #E7EDF0;\n",
       "        border-radius: 3px;\n",
       "        text-align: justify;\n",
       "        \n",
       "    }\n",
       "    .spark-nlp-display-scroll-entities span {  \n",
       "        font-size: 14px;\n",
       "        line-height: 24px;\n",
       "        color: #536B76;\n",
       "        font-family: 'Montserrat', sans-serif !important;\n",
       "    }\n",
       "    \n",
       "    .spark-nlp-display-entity-wrapper{\n",
       "    \n",
       "        display: inline-grid;\n",
       "        text-align: center;\n",
       "        border-radius: 4px;\n",
       "        margin: 0 2px 5px 2px;\n",
       "        padding: 1px\n",
       "    }\n",
       "    .spark-nlp-display-entity-name{\n",
       "        font-size: 14px;\n",
       "        line-height: 24px;\n",
       "        font-family: 'Montserrat', sans-serif !important;\n",
       "        \n",
       "        background: #f1f2f3;\n",
       "        border-width: medium;\n",
       "        text-align: center;\n",
       "        \n",
       "        font-weight: 400;\n",
       "        \n",
       "        border-radius: 5px;\n",
       "        padding: 2px 5px;\n",
       "        display: block;\n",
       "        margin: 3px 2px;\n",
       "    \n",
       "    }\n",
       "    .spark-nlp-display-entity-type{\n",
       "        font-size: 14px;\n",
       "        line-height: 24px;\n",
       "        color: #ffffff;\n",
       "        font-family: 'Montserrat', sans-serif !important;\n",
       "        \n",
       "        text-transform: uppercase;\n",
       "        \n",
       "        font-weight: 500;\n",
       "\n",
       "        display: block;\n",
       "        padding: 3px 5px;\n",
       "    }\n",
       "    \n",
       "    .spark-nlp-display-entity-resolution{\n",
       "        font-size: 14px;\n",
       "        line-height: 24px;\n",
       "        color: #ffffff;\n",
       "        font-family: 'Vistol Regular', sans-serif !important;\n",
       "        \n",
       "        text-transform: uppercase;\n",
       "        \n",
       "        font-weight: 500;\n",
       "\n",
       "        display: block;\n",
       "        padding: 3px 5px;\n",
       "    }\n",
       "    \n",
       "    .spark-nlp-display-others{\n",
       "        font-size: 14px;\n",
       "        line-height: 24px;\n",
       "        font-family: 'Montserrat', sans-serif !important;\n",
       "        \n",
       "        font-weight: 400;\n",
       "    }\n",
       "\n",
       "</style>\n",
       " <span class=\"spark-nlp-display-others\" style=\"background-color: white\">Both the </span><span class=\"spark-nlp-display-entity-wrapper\" style=\"background-color: #2DBC9F\"><span class=\"spark-nlp-display-entity-name\">cheese steak </span><span class=\"spark-nlp-display-entity-type\">NEG</span></span><span class=\"spark-nlp-display-others\" style=\"background-color: white\"> and the freedom </span><span class=\"spark-nlp-display-entity-wrapper\" style=\"background-color: #2DBC9F\"><span class=\"spark-nlp-display-entity-name\">fries </span><span class=\"spark-nlp-display-entity-type\">NEG</span></span><span class=\"spark-nlp-display-others\" style=\"background-color: white\"> were not that tasty  I was a bit disappointed</span></div>"
      ],
      "text/plain": [
       "<IPython.core.display.HTML object>"
      ]
     },
     "metadata": {},
     "output_type": "display_data"
    }
   ],
   "source": [
    "'''\n",
    "# Using display lib\n",
    "from sparknlp_display import NerVisualizer\n",
    "\n",
    "NerVisualizer().display(result.collect()[0], 'ner_chunk', 'document')\n",
    "'''"
   ]
  },
  {
   "cell_type": "code",
   "execution_count": null,
   "metadata": {
    "colab": {
     "base_uri": "https://localhost:8080/"
    },
    "executionInfo": {
     "elapsed": 3877,
     "status": "ok",
     "timestamp": 1647227933911,
     "user": {
      "displayName": "YI ZHOU",
      "photoUrl": "https://lh3.googleusercontent.com/a-/AOh14GjjCQPOQv-2ZfypW6qSjYGwpPtinqgeq4MhLXmW=s64",
      "userId": "06920081129849643993"
     },
     "user_tz": 300
    },
    "id": "_Rv-Li9DJ6S7",
    "outputId": "73f4a2fb-8e8b-4c86-b6c4-eed0402c1020"
   },
   "outputs": [
    {
     "name": "stdout",
     "output_type": "stream",
     "text": [
      "+---------------+---------+\n",
      "|          chunk|ner_label|\n",
      "+---------------+---------+\n",
      "|            Pat|      NEG|\n",
      "|         onions|      NEG|\n",
      "|          bread|      NEG|\n",
      "|           meat|      NEG|\n",
      "|           meat|      NEG|\n",
      "|          bread|      NEG|\n",
      "|            Pat|      NEG|\n",
      "|          place|      NEG|\n",
      "|         tables|      NEG|\n",
      "|chucks of steak|      POS|\n",
      "|         cheese|      NEG|\n",
      "|         flavor|      NEG|\n",
      "|         prices|      NEG|\n",
      "|         flavor|      NEG|\n",
      "|   cheese steak|      NEG|\n",
      "|          fries|      NEG|\n",
      "|        waiting|      NEG|\n",
      "|           food|      POS|\n",
      "|       mushroom|      NEG|\n",
      "|          bread|      NEG|\n",
      "+---------------+---------+\n",
      "only showing top 20 rows\n",
      "\n"
     ]
    }
   ],
   "source": [
    "# Process manually\n",
    "exploded = F.explode(F.arrays_zip('ner_chunk.result', 'ner_chunk.metadata'))\n",
    "select_expression_0 = F.expr(\"cols['0']\").alias(\"chunk\")\n",
    "select_expression_1 = F.expr(\"cols['1']['entity']\").alias(\"ner_label\")\n",
    "aspect=result.select(exploded.alias(\"cols\")) \\\n",
    "    .select(select_expression_0, select_expression_1)\n",
    "\n",
    "#result = result.toPandas()"
   ]
  },
  {
   "cell_type": "code",
   "execution_count": null,
   "metadata": {
    "colab": {
     "base_uri": "https://localhost:8080/"
    },
    "executionInfo": {
     "elapsed": 359221,
     "status": "ok",
     "timestamp": 1647228383681,
     "user": {
      "displayName": "YI ZHOU",
      "photoUrl": "https://lh3.googleusercontent.com/a-/AOh14GjjCQPOQv-2ZfypW6qSjYGwpPtinqgeq4MhLXmW=s64",
      "userId": "06920081129849643993"
     },
     "user_tz": 300
    },
    "id": "Pzf1PE2bcNSA",
    "outputId": "42e4ce3d-e346-444e-df9f-3e06c383f2d3"
   },
   "outputs": [
    {
     "name": "stdout",
     "output_type": "stream",
     "text": [
      "+--------------------+-----+\n",
      "|               chunk|count|\n",
      "+--------------------+-----+\n",
      "|        orange color|    1|\n",
      "|       amoroso rolls|    1|\n",
      "|    peppers    Bread|    1|\n",
      "|          Dr  Pepper|    1|\n",
      "|               crust|    3|\n",
      "|               staff|  135|\n",
      "|mushrooms freshly...|    1|\n",
      "|                Jims|    3|\n",
      "|   ribbon of ketchup|    1|\n",
      "|               rolls|   21|\n",
      "|             brusque|    3|\n",
      "|bun with sliced s...|    1|\n",
      "|          chesesteak|    1|\n",
      "|       Beef sandwich|    1|\n",
      "|          television|    2|\n",
      "|  Philly CheeseSteak|    1|\n",
      "|        meat portion|    1|\n",
      "|            richness|    1|\n",
      "|           chees wiz|    1|\n",
      "|          Pats steak|    1|\n",
      "+--------------------+-----+\n",
      "only showing top 20 rows\n",
      "\n"
     ]
    }
   ],
   "source": [
    "aspect.select(\"chunk\").groupby(\"chunk\").count().show()"
   ]
  },
  {
   "cell_type": "markdown",
   "metadata": {
    "id": "zd1qdsbdMoUF"
   },
   "source": [
    "Light Pipeline Result"
   ]
  },
  {
   "cell_type": "code",
   "execution_count": null,
   "metadata": {
    "id": "ncWfL56jUusS"
   },
   "outputs": [],
   "source": [
    "aspect_count=aspect.groupBy('chunk','ner_label').count().sort('count').orderBy(['count'],ascending=[0])"
   ]
  },
  {
   "cell_type": "code",
   "execution_count": null,
   "metadata": {
    "colab": {
     "base_uri": "https://localhost:8080/"
    },
    "executionInfo": {
     "elapsed": 373919,
     "status": "ok",
     "timestamp": 1647229113173,
     "user": {
      "displayName": "YI ZHOU",
      "photoUrl": "https://lh3.googleusercontent.com/a-/AOh14GjjCQPOQv-2ZfypW6qSjYGwpPtinqgeq4MhLXmW=s64",
      "userId": "06920081129849643993"
     },
     "user_tz": 300
    },
    "id": "84ciIU9he8jQ",
    "outputId": "66936075-4b1a-44ec-f5f5-8f45d422d057"
   },
   "outputs": [
    {
     "name": "stdout",
     "output_type": "stream",
     "text": [
      "+------------+---------+-----+\n",
      "|       chunk|ner_label|count|\n",
      "+------------+---------+-----+\n",
      "|        meat|      NEG|  520|\n",
      "|       bread|      NEG|  437|\n",
      "|       steak|      NEG|  433|\n",
      "|         Pat|      NEG|  391|\n",
      "|      Geno s|      POS|  294|\n",
      "|        Geno|      NEG|  275|\n",
      "|        food|      NEG|  264|\n",
      "|cheesesteaks|      POS|  227|\n",
      "|       fries|      NEG|  226|\n",
      "|    sandwich|      NEG|  220|\n",
      "|       steak|      POS|  184|\n",
      "|      onions|      POS|  179|\n",
      "|      cheese|      NEG|  166|\n",
      "|     service|      NEG|  163|\n",
      "|       bread|      POS|  154|\n",
      "|cheese steak|      POS|  154|\n",
      "|      onions|      NEG|  146|\n",
      "| cheesesteak|      POS|  145|\n",
      "|      Geno s|      NEG|  144|\n",
      "|       place|      NEG|  139|\n",
      "+------------+---------+-----+\n",
      "only showing top 20 rows\n",
      "\n"
     ]
    }
   ],
   "source": [
    "aspect_count.show(20)"
   ]
  },
  {
   "cell_type": "code",
   "execution_count": null,
   "metadata": {
    "colab": {
     "base_uri": "https://localhost:8080/"
    },
    "executionInfo": {
     "elapsed": 376298,
     "status": "ok",
     "timestamp": 1647229611583,
     "user": {
      "displayName": "YI ZHOU",
      "photoUrl": "https://lh3.googleusercontent.com/a-/AOh14GjjCQPOQv-2ZfypW6qSjYGwpPtinqgeq4MhLXmW=s64",
      "userId": "06920081129849643993"
     },
     "user_tz": 300
    },
    "id": "OEdCRHnJgq_7",
    "outputId": "de1a2b50-ba9e-4c86-c14b-5cb68438bf65"
   },
   "outputs": [
    {
     "name": "stdout",
     "output_type": "stream",
     "text": [
      "+------------+---------+-----+\n",
      "|       chunk|ner_label|count|\n",
      "+------------+---------+-----+\n",
      "|        meat|      NEG|  520|\n",
      "|       bread|      NEG|  437|\n",
      "|       steak|      NEG|  433|\n",
      "|         Pat|      NEG|  391|\n",
      "|        Geno|      NEG|  275|\n",
      "|        food|      NEG|  264|\n",
      "|       fries|      NEG|  226|\n",
      "|    sandwich|      NEG|  220|\n",
      "|      cheese|      NEG|  166|\n",
      "|     service|      NEG|  163|\n",
      "|      onions|      NEG|  146|\n",
      "|      Geno s|      NEG|  144|\n",
      "|       place|      NEG|  139|\n",
      "|       staff|      NEG|   99|\n",
      "|cheese steak|      NEG|   96|\n",
      "|      flavor|      NEG|   88|\n",
      "|      steaks|      NEG|   85|\n",
      "| cheesesteak|      NEG|   85|\n",
      "|  sandwiches|      NEG|   77|\n",
      "|       Pat s|      NEG|   65|\n",
      "+------------+---------+-----+\n",
      "only showing top 20 rows\n",
      "\n"
     ]
    }
   ],
   "source": [
    "aspect_count.filter(aspect_count.ner_label=='NEG').show(20)"
   ]
  },
  {
   "cell_type": "code",
   "execution_count": null,
   "metadata": {
    "colab": {
     "base_uri": "https://localhost:8080/"
    },
    "executionInfo": {
     "elapsed": 367947,
     "status": "ok",
     "timestamp": 1647230038480,
     "user": {
      "displayName": "YI ZHOU",
      "photoUrl": "https://lh3.googleusercontent.com/a-/AOh14GjjCQPOQv-2ZfypW6qSjYGwpPtinqgeq4MhLXmW=s64",
      "userId": "06920081129849643993"
     },
     "user_tz": 300
    },
    "id": "LSoJaQI3iebj",
    "outputId": "385c9e0f-7be8-4221-f9ee-13e25030ee7e"
   },
   "outputs": [
    {
     "name": "stdout",
     "output_type": "stream",
     "text": [
      "+-------------+---------+-----+\n",
      "|        chunk|ner_label|count|\n",
      "+-------------+---------+-----+\n",
      "|       Geno s|      POS|  294|\n",
      "| cheesesteaks|      POS|  227|\n",
      "|        steak|      POS|  184|\n",
      "|       onions|      POS|  179|\n",
      "|        bread|      POS|  154|\n",
      "| cheese steak|      POS|  154|\n",
      "|  cheesesteak|      POS|  145|\n",
      "|        fries|      POS|  130|\n",
      "|         meat|      POS|  123|\n",
      "|         Geno|      POS|  117|\n",
      "|       cheese|      POS|  105|\n",
      "|     sandwich|      POS|  104|\n",
      "|      service|      POS|   97|\n",
      "|         food|      POS|   95|\n",
      "|       steaks|      POS|   77|\n",
      "|        place|      POS|   61|\n",
      "| cheese fries|      POS|   52|\n",
      "|Geno s Steaks|      POS|   44|\n",
      "|          Pat|      POS|   44|\n",
      "|cheese steaks|      POS|   44|\n",
      "+-------------+---------+-----+\n",
      "only showing top 20 rows\n",
      "\n"
     ]
    }
   ],
   "source": [
    "aspect_count.filter(aspect_count.ner_label=='POS').show(20)"
   ]
  },
  {
   "cell_type": "code",
   "execution_count": null,
   "metadata": {
    "colab": {
     "base_uri": "https://localhost:8080/",
     "height": 87
    },
    "executionInfo": {
     "elapsed": 271,
     "status": "ok",
     "timestamp": 1647225387871,
     "user": {
      "displayName": "YI ZHOU",
      "photoUrl": "https://lh3.googleusercontent.com/a-/AOh14GjjCQPOQv-2ZfypW6qSjYGwpPtinqgeq4MhLXmW=s64",
      "userId": "06920081129849643993"
     },
     "user_tz": 300
    },
    "id": "MAkhpH_TVMhK",
    "outputId": "a45703e1-06cd-47c2-9774-5ff0e6169ce1"
   },
   "outputs": [
    {
     "data": {
      "text/html": [
       "\n",
       "<style>\n",
       "    @import url('https://fonts.googleapis.com/css2?family=Montserrat:wght@300;400;500;600;700&display=swap');\n",
       "    @import url('https://fonts.googleapis.com/css2?family=Vistol Regular:wght@300;400;500;600;700&display=swap');\n",
       "    \n",
       "    .spark-nlp-display-scroll-entities {\n",
       "        border: 1px solid #E7EDF0;\n",
       "        border-radius: 3px;\n",
       "        text-align: justify;\n",
       "        \n",
       "    }\n",
       "    .spark-nlp-display-scroll-entities span {  \n",
       "        font-size: 14px;\n",
       "        line-height: 24px;\n",
       "        color: #536B76;\n",
       "        font-family: 'Montserrat', sans-serif !important;\n",
       "    }\n",
       "    \n",
       "    .spark-nlp-display-entity-wrapper{\n",
       "    \n",
       "        display: inline-grid;\n",
       "        text-align: center;\n",
       "        border-radius: 4px;\n",
       "        margin: 0 2px 5px 2px;\n",
       "        padding: 1px\n",
       "    }\n",
       "    .spark-nlp-display-entity-name{\n",
       "        font-size: 14px;\n",
       "        line-height: 24px;\n",
       "        font-family: 'Montserrat', sans-serif !important;\n",
       "        \n",
       "        background: #f1f2f3;\n",
       "        border-width: medium;\n",
       "        text-align: center;\n",
       "        \n",
       "        font-weight: 400;\n",
       "        \n",
       "        border-radius: 5px;\n",
       "        padding: 2px 5px;\n",
       "        display: block;\n",
       "        margin: 3px 2px;\n",
       "    \n",
       "    }\n",
       "    .spark-nlp-display-entity-type{\n",
       "        font-size: 14px;\n",
       "        line-height: 24px;\n",
       "        color: #ffffff;\n",
       "        font-family: 'Montserrat', sans-serif !important;\n",
       "        \n",
       "        text-transform: uppercase;\n",
       "        \n",
       "        font-weight: 500;\n",
       "\n",
       "        display: block;\n",
       "        padding: 3px 5px;\n",
       "    }\n",
       "    \n",
       "    .spark-nlp-display-entity-resolution{\n",
       "        font-size: 14px;\n",
       "        line-height: 24px;\n",
       "        color: #ffffff;\n",
       "        font-family: 'Vistol Regular', sans-serif !important;\n",
       "        \n",
       "        text-transform: uppercase;\n",
       "        \n",
       "        font-weight: 500;\n",
       "\n",
       "        display: block;\n",
       "        padding: 3px 5px;\n",
       "    }\n",
       "    \n",
       "    .spark-nlp-display-others{\n",
       "        font-size: 14px;\n",
       "        line-height: 24px;\n",
       "        font-family: 'Montserrat', sans-serif !important;\n",
       "        \n",
       "        font-weight: 400;\n",
       "    }\n",
       "\n",
       "</style>\n",
       " <span class=\"spark-nlp-display-others\" style=\"background-color: white\">Both the </span><span class=\"spark-nlp-display-entity-wrapper\" style=\"background-color: #1620A9\"><span class=\"spark-nlp-display-entity-name\">cheese steak </span><span class=\"spark-nlp-display-entity-type\">NEG</span></span><span class=\"spark-nlp-display-others\" style=\"background-color: white\"> and the freedom </span><span class=\"spark-nlp-display-entity-wrapper\" style=\"background-color: #1620A9\"><span class=\"spark-nlp-display-entity-name\">fries </span><span class=\"spark-nlp-display-entity-type\">NEG</span></span><span class=\"spark-nlp-display-others\" style=\"background-color: white\"> were not that tasty  I was a bit disappointed</span></div>"
      ],
      "text/plain": [
       "<IPython.core.display.HTML object>"
      ]
     },
     "metadata": {},
     "output_type": "display_data"
    }
   ],
   "source": [
    "# Using display lib\n",
    "from sparknlp_display import NerVisualizer\n",
    "\n",
    "NerVisualizer().display(lresult[0], 'ner_chunk', 'document')"
   ]
  },
  {
   "cell_type": "code",
   "execution_count": null,
   "metadata": {
    "colab": {
     "base_uri": "https://localhost:8080/"
    },
    "executionInfo": {
     "elapsed": 378,
     "status": "ok",
     "timestamp": 1647225390977,
     "user": {
      "displayName": "YI ZHOU",
      "photoUrl": "https://lh3.googleusercontent.com/a-/AOh14GjjCQPOQv-2ZfypW6qSjYGwpPtinqgeq4MhLXmW=s64",
      "userId": "06920081129849643993"
     },
     "user_tz": 300
    },
    "id": "UJGdtmLSMrao",
    "outputId": "247ce4d7-10a3-4006-8bd3-22cc45b7b694"
   },
   "outputs": [
    {
     "name": "stdout",
     "output_type": "stream",
     "text": [
      "Token/Phrase: cheese steak Sentiment:  NEG\n",
      "Token/Phrase: fries Sentiment:  NEG\n"
     ]
    }
   ],
   "source": [
    "'''\n",
    "# Process manually\n",
    "for example in lresult:\n",
    "  for res in example['ner_chunk']:\n",
    "    print ('Token/Phrase:', res.result, 'Sentiment: ', res.metadata['entity'])\n",
    "'''"
   ]
  }
 ],
 "metadata": {
  "colab": {
   "collapsed_sections": [],
   "name": "Copy of ABSA_Inference.ipynb",
   "provenance": [
    {
     "file_id": "https://github.com/JohnSnowLabs/spark-nlp-workshop/blob/master/tutorials/streamlit_notebooks/ABSA_Inference.ipynb",
     "timestamp": 1647210521529
    }
   ]
  },
  "kernelspec": {
   "display_name": "Python 3",
   "language": "python",
   "name": "python3"
  },
  "language_info": {
   "codemirror_mode": {
    "name": "ipython",
    "version": 3
   },
   "file_extension": ".py",
   "mimetype": "text/x-python",
   "name": "python",
   "nbconvert_exporter": "python",
   "pygments_lexer": "ipython3",
   "version": "3.8.8"
  }
 },
 "nbformat": 4,
 "nbformat_minor": 4
}
