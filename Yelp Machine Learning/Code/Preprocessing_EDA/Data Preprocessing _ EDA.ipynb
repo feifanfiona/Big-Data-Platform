{
 "cells": [
  {
   "cell_type": "code",
   "execution_count": 3,
   "id": "363da894",
   "metadata": {},
   "outputs": [],
   "source": [
    "import os\n",
    "import sys\n",
    "import pyspark\n",
    "from pyspark.sql import SQLContext\n",
    "import pandas as pd\n",
    "from pyspark import SparkContext, SparkConf\n",
    "import pyspark.sql.functions as F\n",
    "import matplotlib.pyplot as plt\n",
    "import seaborn as sns\n",
    "%matplotlib inline\n",
    "\n",
    "from pyspark.sql import SparkSession\n",
    "spark = SparkSession.builder.appName('GCSFilesRead').getOrCreate()\n",
    "spark.conf.set(\"spark.sql.debug.maxToStringFields\", 1000)"
   ]
  },
  {
   "cell_type": "code",
   "execution_count": 4,
   "id": "6b7b77ce",
   "metadata": {},
   "outputs": [],
   "source": [
    "from google.cloud import storage\n",
    "\n",
    "gcs_client = storage.Client()\n",
    "bucket = gcs_client.bucket('datasetsbdp')\n"
   ]
  },
  {
   "cell_type": "code",
   "execution_count": 3,
   "id": "115b6cd3",
   "metadata": {},
   "outputs": [],
   "source": [
    "#spark._jsc.hadoopConfiguration().set(\"google.cloud.auth.service.account.json.keyfile\",\"/Users/xiantang/Desktop/BigDataPlatform/Project/yelp_dataset/iconic-being-343500-f1cb28ff8582.json\")\n"
   ]
  },
  {
   "cell_type": "code",
   "execution_count": 5,
   "id": "55b7204f",
   "metadata": {},
   "outputs": [],
   "source": [
    "os.environ['GOOGLE_APPLICATION_CREDENTIALS'] = \"/Users/xiantang/Desktop/BigDataPlatform/Project/yelp_dataset/iconic-being-343500-f1cb28ff8582.json\"\n"
   ]
  },
  {
   "cell_type": "code",
   "execution_count": 5,
   "id": "4e623bb5",
   "metadata": {},
   "outputs": [
    {
     "name": "stdout",
     "output_type": "stream",
     "text": [
      "ls: Error reading credential file from environment variable GOOGLE_APPLICATION_CREDENTIALS, value '/Users/xiantang/Desktop/BigDataPlatform/Project/yelp_dataset/iconic-being-343500-f1cb28ff8582.json': File does not exist.\n"
     ]
    }
   ],
   "source": [
    "!hdfs dfs -ls 'gs://datasetsbdp/'\n"
   ]
  },
  {
   "cell_type": "code",
   "execution_count": 6,
   "id": "43f94628",
   "metadata": {},
   "outputs": [],
   "source": [
    "PROJECT_ID=\"BDPYelpFinalProject\"\n",
    "bucket_name = \"datasetsbdp\"\n",
    "path_review = f\"gs://{bucket_name}/dataset_review.json\"\n",
    "path_tip = f\"gs://{bucket_name}/dataset_tip.json\"\n",
    "path_user = f\"gs://{bucket_name}/dataset_user.json\"\n",
    "path_checkin = f\"gs://{bucket_name}/dataset_checkin.json\"\n",
    "path_business = f\"gs://{bucket_name}/dataset_business.json\"\n",
    "path_train1 = f\"gs://{bucket_name}/train1.csv\"\n",
    "path_train2 = f\"gs://{bucket_name}/train2.csv\"\n",
    "path_review_test = f\"gs://{bucket_name}/test_no_label.csv\"\n",
    "#gs://bdpproject/yelp_academic_dataset_review.json"
   ]
  },
  {
   "cell_type": "markdown",
   "id": "5213f970",
   "metadata": {},
   "source": [
    "## For df_review: stars column only have 1~5: 5 distinct numbers."
   ]
  },
  {
   "cell_type": "code",
   "execution_count": 7,
   "id": "f47d796a",
   "metadata": {
    "tags": []
   },
   "outputs": [
    {
     "name": "stderr",
     "output_type": "stream",
     "text": [
      "                                                                                \r"
     ]
    },
    {
     "name": "stdout",
     "output_type": "stream",
     "text": [
      "+--------------------+----+-------------------+-----+--------------------+-----+--------------------+------+--------------------+\n",
      "|         business_id|cool|               date|funny|           review_id|stars|                text|useful|             user_id|\n",
      "+--------------------+----+-------------------+-----+--------------------+-----+--------------------+------+--------------------+\n",
      "|XQfwVwDr-v0ZS3_Cb...|   0|2018-07-07 22:09:11|    0|KU_O5udG6zpxOg-Vc...|  3.0|If you decide to ...|     0|mh_-eMZ6K5RLWhZyI...|\n",
      "|7ATYjTIgM3jUlt4UM...|   1|2012-01-03 15:28:18|    0|BiTunyQ73aT9WBnpR...|  5.0|I've taken a lot ...|     1|OyoGAe7OKpv6SyGZT...|\n",
      "|YjUWPpI6HXG530lwP...|   0|2014-02-05 20:30:30|    0|saUsX_uimxRlCVr67...|  3.0|Family diner. Had...|     0|8g_iMtfSiwikVnbP2...|\n",
      "|kxX2SOes4o-D3ZQBk...|   1|2015-01-04 00:01:03|    0|AqPFMleE6RsU23_au...|  5.0|Wow!  Yummy, diff...|     1|_7bHUi9Uuf5__HHc_...|\n",
      "|e4Vwtrqf-wpJfwesg...|   1|2017-01-14 20:54:15|    0|Sx8TMOWLNuJBWer-0...|  4.0|Cute interior and...|     1|bcjbaE6dDog4jkNY9...|\n",
      "+--------------------+----+-------------------+-----+--------------------+-----+--------------------+------+--------------------+\n",
      "only showing top 5 rows\n",
      "\n"
     ]
    }
   ],
   "source": [
    "df_review=spark.read.json(path_review)\n",
    "df_review.show(5)"
   ]
  },
  {
   "cell_type": "code",
   "execution_count": 8,
   "id": "6cc41d0b",
   "metadata": {},
   "outputs": [
    {
     "name": "stderr",
     "output_type": "stream",
     "text": [
      "                                                                                \r"
     ]
    },
    {
     "data": {
      "text/plain": [
       "6990280"
      ]
     },
     "execution_count": 8,
     "metadata": {},
     "output_type": "execute_result"
    }
   ],
   "source": [
    "df_review.count()"
   ]
  },
  {
   "cell_type": "code",
   "execution_count": 8,
   "id": "390cda8e",
   "metadata": {},
   "outputs": [
    {
     "name": "stderr",
     "output_type": "stream",
     "text": [
      "                                                                                \r"
     ]
    },
    {
     "name": "stdout",
     "output_type": "stream",
     "text": [
      "+-----+\n",
      "|stars|\n",
      "+-----+\n",
      "|  1.0|\n",
      "|  4.0|\n",
      "|  3.0|\n",
      "|  2.0|\n",
      "|  5.0|\n",
      "+-----+\n",
      "\n"
     ]
    }
   ],
   "source": [
    "df_review.select('stars').distinct().show()"
   ]
  },
  {
   "cell_type": "code",
   "execution_count": 10,
   "id": "b38f5404",
   "metadata": {},
   "outputs": [
    {
     "name": "stderr",
     "output_type": "stream",
     "text": [
      "                                                                                \r"
     ]
    },
    {
     "name": "stdout",
     "output_type": "stream",
     "text": [
      "+--------------------+----------------+-------------------+--------------------+--------------------+\n",
      "|         business_id|compliment_count|               date|                text|             user_id|\n",
      "+--------------------+----------------+-------------------+--------------------+--------------------+\n",
      "|3uLgwr0qeCNMjKenH...|               0|2012-05-18 02:17:21|Avengers time wit...|AGNUgVwnZUey3gcPC...|\n",
      "|QoezRbYQncpRqyrLH...|               0|2013-02-05 18:35:10|They have lots of...|NBN4MgHP9D3cw--Sn...|\n",
      "|MYoRNLb5chwjQe3c_...|               0|2013-08-18 00:56:08|It's open even wh...|-copOvldyKh1qr-vz...|\n",
      "|hV-bABTK-glh5wj31...|               0|2017-06-27 23:05:38|Very decent fried...|FjMQVZjSqY8syIO-5...|\n",
      "|_uN0OudeJ3Zl_tf6n...|               0|2012-10-06 19:43:09|Appetizers.. plat...|ld0AperBXk1h6Ubqm...|\n",
      "+--------------------+----------------+-------------------+--------------------+--------------------+\n",
      "only showing top 5 rows\n",
      "\n"
     ]
    }
   ],
   "source": [
    "df_tip = spark.read.json(path_tip)\n",
    "df_tip.show(5)"
   ]
  },
  {
   "cell_type": "code",
   "execution_count": 11,
   "id": "4e4df9fa",
   "metadata": {},
   "outputs": [
    {
     "name": "stderr",
     "output_type": "stream",
     "text": [
      "                                                                                \r"
     ]
    },
    {
     "name": "stdout",
     "output_type": "stream",
     "text": [
      "+----------------+\n",
      "|compliment_count|\n",
      "+----------------+\n",
      "|               0|\n",
      "|               5|\n",
      "|               6|\n",
      "|               1|\n",
      "|               3|\n",
      "|               2|\n",
      "|               4|\n",
      "+----------------+\n",
      "\n"
     ]
    }
   ],
   "source": [
    "df_tip.select('compliment_count').distinct().show()"
   ]
  },
  {
   "cell_type": "code",
   "execution_count": 12,
   "id": "8d90012e",
   "metadata": {},
   "outputs": [
    {
     "name": "stderr",
     "output_type": "stream",
     "text": [
      "                                                                                \r"
     ]
    },
    {
     "name": "stdout",
     "output_type": "stream",
     "text": [
      "+-------------+---------------+---------------+----------------+--------------+---------------+---------------+---------------+-----------------+----------------+------------------+-----------------+-----+--------------------+----+--------------------+-----+------+------------+------+--------------------+-------------------+\n",
      "|average_stars|compliment_cool|compliment_cute|compliment_funny|compliment_hot|compliment_list|compliment_more|compliment_note|compliment_photos|compliment_plain|compliment_profile|compliment_writer| cool|               elite|fans|             friends|funny|  name|review_count|useful|             user_id|      yelping_since|\n",
      "+-------------+---------------+---------------+----------------+--------------+---------------+---------------+---------------+-----------------+----------------+------------------+-----------------+-----+--------------------+----+--------------------+-----+------+------------+------+--------------------+-------------------+\n",
      "|         3.91|            467|             56|             467|           250|             18|             65|            232|              180|             844|                55|              239| 5994|                2007| 267|NSCy54eWehBJyZdG2...| 1259|Walker|         585|  7217|qVc8ODYU5SZjKXVBg...|2007-01-25 16:47:26|\n",
      "|         3.74|           3131|            157|            3131|          1145|            251|            264|           1847|             1946|            7054|               184|             1521|27281|2009,2010,2011,20...|3138|ueRPE0CX75ePGMqOF...|13066|Daniel|        4333| 43091|j14WgRoU_-2ZE1aw1...|2009-01-25 04:35:42|\n",
      "|         3.32|            119|             17|             119|            89|              3|             13|             66|               18|              96|                10|               35| 1003|2009,2010,2011,20...|  52|LuO3Bn4f3rlhyHIaN...| 1010| Steph|         665|  2086|2WnXYQFK0hXEoTxPt...|2008-07-25 10:41:00|\n",
      "|         4.27|             26|              6|              26|            24|              2|              4|             12|                9|              16|                 1|               10|  299|      2009,2010,2011|  28|enx1vVPnfdNUdPho6...|  330|  Gwen|         224|   512|SZDeASXq7o05mMNLs...|2005-11-29 04:38:33|\n",
      "|         3.54|              0|              0|               0|             1|              0|              1|              1|                0|               1|                 0|                0|    7|                    |   1|PBK4q9KEEBHhFvSXC...|   15| Karen|          79|    29|hA5lMy-EnncsH4JoR...|2007-01-05 19:40:59|\n",
      "+-------------+---------------+---------------+----------------+--------------+---------------+---------------+---------------+-----------------+----------------+------------------+-----------------+-----+--------------------+----+--------------------+-----+------+------------+------+--------------------+-------------------+\n",
      "only showing top 5 rows\n",
      "\n"
     ]
    }
   ],
   "source": [
    "df_user = spark.read.json(path_user)\n",
    "df_user.show(5)"
   ]
  },
  {
   "cell_type": "code",
   "execution_count": null,
   "id": "53fc5219",
   "metadata": {},
   "outputs": [],
   "source": [
    "df_user.show()"
   ]
  },
  {
   "cell_type": "code",
   "execution_count": 13,
   "id": "9c3a4e6f",
   "metadata": {},
   "outputs": [
    {
     "name": "stdout",
     "output_type": "stream",
     "text": [
      "+--------------------+--------------------+\n",
      "|         business_id|                date|\n",
      "+--------------------+--------------------+\n",
      "|---kPU91CF4Lq2-Wl...|2020-03-13 21:10:...|\n",
      "|--0iUa4sNDFiZFrAd...|2010-09-13 21:43:...|\n",
      "|--30_8IhuyMHbSOcN...|2013-06-14 23:29:...|\n",
      "|--7PUidqRWpRSpXeb...|2011-02-15 17:12:...|\n",
      "|--7jw19RH9JKXgFoh...|2014-04-21 20:42:...|\n",
      "+--------------------+--------------------+\n",
      "only showing top 5 rows\n",
      "\n"
     ]
    }
   ],
   "source": [
    "df_checkin = spark.read.json(path_checkin)\n",
    "df_checkin.show(5)"
   ]
  },
  {
   "cell_type": "code",
   "execution_count": null,
   "id": "a29e824a",
   "metadata": {},
   "outputs": [],
   "source": []
  },
  {
   "cell_type": "code",
   "execution_count": 10,
   "id": "bada4938",
   "metadata": {},
   "outputs": [
    {
     "name": "stderr",
     "output_type": "stream",
     "text": [
      "                                                                                \r"
     ]
    },
    {
     "name": "stdout",
     "output_type": "stream",
     "text": [
      "+--------------------+--------------------+--------------------+--------------------+-------------+--------------------+-------+----------+------------+--------------------+-----------+------------+-----+-----+\n",
      "|             address|          attributes|         business_id|          categories|         city|               hours|is_open|  latitude|   longitude|                name|postal_code|review_count|stars|state|\n",
      "+--------------------+--------------------+--------------------+--------------------+-------------+--------------------+-------+----------+------------+--------------------+-----------+------------+-----+-----+\n",
      "|1616 Chapala St, ...|{null, null, null...|Pns2l4eNsfO8kk83d...|Doctors, Traditio...|Santa Barbara|                null|      0|34.4266787|-119.7111968|Abby Rappoport, L...|      93101|           7|  5.0|   CA|\n",
      "|87 Grasso Plaza S...|{null, null, null...|mpf3x-BjTdTEA3yCZ...|Shipping Centers,...|       Affton|{8:0-18:30, 0:0-0...|      1| 38.551126|  -90.335695|       The UPS Store|      63123|          15|  3.0|   MO|\n",
      "|5255 E Broadway Blvd|{null, null, null...|tUFrWirKiKi_TAnsV...|Department Stores...|       Tucson|{8:0-23:0, 8:0-22...|      0| 32.223236| -110.880452|              Target|      85711|          22|  3.5|   AZ|\n",
      "|         935 Race St|{null, null, u'no...|MTSW4McQd7CbVtyjq...|Restaurants, Food...| Philadelphia|{7:0-21:0, 7:0-20...|      1|39.9555052| -75.1555641|  St Honore Pastries|      19107|          80|  4.0|   PA|\n",
      "|       101 Walnut St|{null, null, null...|mWMc6_wTdE0EUBKIG...|Brewpubs, Breweri...|   Green Lane|{12:0-22:0, null,...|      1|40.3381827| -75.4716585|Perkiomen Valley ...|      18054|          13|  4.5|   PA|\n",
      "+--------------------+--------------------+--------------------+--------------------+-------------+--------------------+-------+----------+------------+--------------------+-----------+------------+-----+-----+\n",
      "only showing top 5 rows\n",
      "\n"
     ]
    }
   ],
   "source": [
    "df_business = spark.read.json(path_business)\n",
    "df_business.show(5)"
   ]
  },
  {
   "cell_type": "markdown",
   "id": "f49723cc",
   "metadata": {},
   "source": [
    "## cleaning df_business "
   ]
  },
  {
   "cell_type": "code",
   "execution_count": 56,
   "id": "7ddef03c",
   "metadata": {},
   "outputs": [
    {
     "name": "stdout",
     "output_type": "stream",
     "text": [
      "root\n",
      " |-- address: string (nullable = true)\n",
      " |-- attributes: struct (nullable = true)\n",
      " |    |-- AcceptsInsurance: string (nullable = true)\n",
      " |    |-- AgesAllowed: string (nullable = true)\n",
      " |    |-- Alcohol: string (nullable = true)\n",
      " |    |-- Ambience: string (nullable = true)\n",
      " |    |-- BYOB: string (nullable = true)\n",
      " |    |-- BYOBCorkage: string (nullable = true)\n",
      " |    |-- BestNights: string (nullable = true)\n",
      " |    |-- BikeParking: string (nullable = true)\n",
      " |    |-- BusinessAcceptsBitcoin: string (nullable = true)\n",
      " |    |-- BusinessAcceptsCreditCards: string (nullable = true)\n",
      " |    |-- BusinessParking: string (nullable = true)\n",
      " |    |-- ByAppointmentOnly: string (nullable = true)\n",
      " |    |-- Caters: string (nullable = true)\n",
      " |    |-- CoatCheck: string (nullable = true)\n",
      " |    |-- Corkage: string (nullable = true)\n",
      " |    |-- DietaryRestrictions: string (nullable = true)\n",
      " |    |-- DogsAllowed: string (nullable = true)\n",
      " |    |-- DriveThru: string (nullable = true)\n",
      " |    |-- GoodForDancing: string (nullable = true)\n",
      " |    |-- GoodForKids: string (nullable = true)\n",
      " |    |-- GoodForMeal: string (nullable = true)\n",
      " |    |-- HairSpecializesIn: string (nullable = true)\n",
      " |    |-- HappyHour: string (nullable = true)\n",
      " |    |-- HasTV: string (nullable = true)\n",
      " |    |-- Music: string (nullable = true)\n",
      " |    |-- NoiseLevel: string (nullable = true)\n",
      " |    |-- Open24Hours: string (nullable = true)\n",
      " |    |-- OutdoorSeating: string (nullable = true)\n",
      " |    |-- RestaurantsAttire: string (nullable = true)\n",
      " |    |-- RestaurantsCounterService: string (nullable = true)\n",
      " |    |-- RestaurantsDelivery: string (nullable = true)\n",
      " |    |-- RestaurantsGoodForGroups: string (nullable = true)\n",
      " |    |-- RestaurantsPriceRange2: string (nullable = true)\n",
      " |    |-- RestaurantsReservations: string (nullable = true)\n",
      " |    |-- RestaurantsTableService: string (nullable = true)\n",
      " |    |-- RestaurantsTakeOut: string (nullable = true)\n",
      " |    |-- Smoking: string (nullable = true)\n",
      " |    |-- WheelchairAccessible: string (nullable = true)\n",
      " |    |-- WiFi: string (nullable = true)\n",
      " |-- business_id: string (nullable = true)\n",
      " |-- categories: string (nullable = true)\n",
      " |-- city: string (nullable = true)\n",
      " |-- hours: struct (nullable = true)\n",
      " |    |-- Friday: string (nullable = true)\n",
      " |    |-- Monday: string (nullable = true)\n",
      " |    |-- Saturday: string (nullable = true)\n",
      " |    |-- Sunday: string (nullable = true)\n",
      " |    |-- Thursday: string (nullable = true)\n",
      " |    |-- Tuesday: string (nullable = true)\n",
      " |    |-- Wednesday: string (nullable = true)\n",
      " |-- is_open: long (nullable = true)\n",
      " |-- latitude: double (nullable = true)\n",
      " |-- longitude: double (nullable = true)\n",
      " |-- name: string (nullable = true)\n",
      " |-- postal_code: string (nullable = true)\n",
      " |-- review_count: long (nullable = true)\n",
      " |-- stars: double (nullable = true)\n",
      " |-- state: string (nullable = true)\n",
      "\n"
     ]
    }
   ],
   "source": [
    "df_business.printSchema()"
   ]
  },
  {
   "cell_type": "code",
   "execution_count": 8,
   "id": "b2ed6451",
   "metadata": {},
   "outputs": [],
   "source": [
    "df_business=df_business.select('business_id','name','city','stars','review_count','categories')"
   ]
  },
  {
   "cell_type": "code",
   "execution_count": 9,
   "id": "4f97b9e7",
   "metadata": {},
   "outputs": [
    {
     "name": "stdout",
     "output_type": "stream",
     "text": [
      "+--------------------+--------------------+-------------+-----+------------+--------------------+\n",
      "|         business_id|                name|         city|stars|review_count|          categories|\n",
      "+--------------------+--------------------+-------------+-----+------------+--------------------+\n",
      "|Pns2l4eNsfO8kk83d...|Abby Rappoport, L...|Santa Barbara|  5.0|           7|Doctors, Traditio...|\n",
      "|mpf3x-BjTdTEA3yCZ...|       The UPS Store|       Affton|  3.0|          15|Shipping Centers,...|\n",
      "+--------------------+--------------------+-------------+-----+------------+--------------------+\n",
      "only showing top 2 rows\n",
      "\n"
     ]
    }
   ],
   "source": [
    "df_business.show(2)"
   ]
  },
  {
   "cell_type": "markdown",
   "id": "b05fff6a",
   "metadata": {},
   "source": [
    "# Cleaning df_review"
   ]
  },
  {
   "cell_type": "code",
   "execution_count": 45,
   "id": "eb3f02f9",
   "metadata": {},
   "outputs": [],
   "source": [
    "df_review=df_review.select('business_id','date','stars','text','user_id')"
   ]
  },
  {
   "cell_type": "code",
   "execution_count": 46,
   "id": "06efc796",
   "metadata": {},
   "outputs": [
    {
     "name": "stdout",
     "output_type": "stream",
     "text": [
      "+--------------------+-------------------+-----+--------------------+--------------------+\n",
      "|         business_id|               date|stars|                text|             user_id|\n",
      "+--------------------+-------------------+-----+--------------------+--------------------+\n",
      "|XQfwVwDr-v0ZS3_Cb...|2018-07-07 22:09:11|  3.0|If you decide to ...|mh_-eMZ6K5RLWhZyI...|\n",
      "|7ATYjTIgM3jUlt4UM...|2012-01-03 15:28:18|  5.0|I've taken a lot ...|OyoGAe7OKpv6SyGZT...|\n",
      "+--------------------+-------------------+-----+--------------------+--------------------+\n",
      "only showing top 2 rows\n",
      "\n"
     ]
    }
   ],
   "source": [
    "df_review.show(2)"
   ]
  },
  {
   "cell_type": "markdown",
   "id": "a4baee07",
   "metadata": {},
   "source": [
    "## EDA"
   ]
  },
  {
   "cell_type": "markdown",
   "id": "956dbd76",
   "metadata": {},
   "source": [
    "### Find Out Factors that Influence the Star Rating"
   ]
  },
  {
   "cell_type": "code",
   "execution_count": 52,
   "id": "90e6bdf8",
   "metadata": {},
   "outputs": [
    {
     "name": "stderr",
     "output_type": "stream",
     "text": [
      "                                                                                \r"
     ]
    }
   ],
   "source": [
    "ratingFactor = spark.read.json(path_business)"
   ]
  },
  {
   "cell_type": "code",
   "execution_count": 53,
   "id": "b85a3843",
   "metadata": {},
   "outputs": [],
   "source": [
    "# Read specific factors\n",
    "ratingFactor = ratingFactor.select(\"attributes\",\"stars\")\n",
    "#ratingFactor.printSchema()"
   ]
  },
  {
   "cell_type": "code",
   "execution_count": 54,
   "id": "78d444ed",
   "metadata": {},
   "outputs": [],
   "source": [
    "# show selected factors\n",
    "factors = ratingFactor.select(F.col(\"attributes.WheelchairAccessible\").alias(\"WheelChairAccessible\"),\n",
    "                             F.col(\"attributes.WiFi\").alias(\"WiFi\"),\n",
    "                              F.col(\"attributes.HasTV\").alias(\"TV\"),\n",
    "                              F.col(\"attributes.DriveThru\").alias(\"DriveThru\"),\n",
    "                             F.col(\"attributes.Smoking\").alias(\"Smoking\"),\n",
    "                             F.col(\"attributes.RestaurantsDelivery\").alias(\"Delivery\"),\n",
    "                             F.col(\"attributes.DogsAllowed\").alias(\"DogsAllowed\"),\n",
    "                             F.col(\"attributes.GoodForKids\").alias(\"GoodForKids\"),F.col(\"stars\"))\n",
    "#drop null rows\n",
    "factors = factors.na.drop()\n",
    "#factors.show(5)"
   ]
  },
  {
   "cell_type": "code",
   "execution_count": 55,
   "id": "0f63cfca",
   "metadata": {},
   "outputs": [
    {
     "name": "stderr",
     "output_type": "stream",
     "text": [
      "                                                                                \r"
     ]
    }
   ],
   "source": [
    "from pyspark.sql.functions import when\n",
    "\n",
    "#unify types of WiFi\n",
    "factor_clean = factors.withColumn(\"WiFi\", when(factors.WiFi == \"u'no'\",\"NoWiFi\") \\\n",
    "      .when(factors.WiFi == \"u'free'\",\"FreeWiFi\") \\\n",
    "    .when(factors.WiFi == \"free'\",\"FreeWiFi\") \\\n",
    "    .when(factors.WiFi == \"no'\",\"NoWiFi\") \\\n",
    "     .when(factors.WiFi == \"None\",\"NotMentioned\") \\\n",
    "    .when(factors.WiFi == \"u'paid'\",\"PaidWiFi\") \\\n",
    "    .when(factors.WiFi == \"paid'\",\"PaidWiFi\") \\\n",
    "    .when(factors.WiFi == \"'free'\",\"FreeWiFi\") \\\n",
    "     .when(factors.WiFi == \"'paid'\",\"PaidWiFi\") \\\n",
    "    .when(factors.WiFi == \"'no'\",\"NoWiFi\") \\\n",
    "      .otherwise(factors.WiFi)) \\\n",
    "    .withColumn(\"DriveThru\", when(factors.DriveThru == \"None\",\"NotMentioned\") \\\n",
    "      .when(factors.DriveThru == \"False\",\"NoDriveThru\") \\\n",
    "    .when(factors.DriveThru == \"True\",\"DriveThru\") \\\n",
    "      .otherwise(factors.DriveThru)) \\\n",
    "    .withColumn(\"Smoking\", when(factors.Smoking == \"u'outdoor'\",\"Smoking\") \\\n",
    "    .when(factors.Smoking == \"u'no'\",\"NoSmoking\") \\\n",
    "    .when(factors.Smoking == \"u'yes'\",\"Smoking\") \\\n",
    "    .when(factors.Smoking == \"'no'\",\"NoSmoking\") \\\n",
    "      .otherwise(factors.Smoking)) \\\n",
    "    .withColumn(\"WheelChairAccessible\", when(factors.WheelChairAccessible == \"True\",\"WheelChair\") \\\n",
    "      .when(factors.WheelChairAccessible == \"False\",\"NoWheelChair\") \\\n",
    "      .otherwise(factors.WheelChairAccessible)) \\\n",
    "    .withColumn(\"TV\", when(factors.TV == \"True\",\"HasTV\") \\\n",
    "      .when(factors.TV == \"False\",\"NoTV\") \\\n",
    "      .otherwise(factors.TV)) \\\n",
    "    .withColumn(\"Delivery\", when(factors.Delivery == \"True\",\"Delivery\") \\\n",
    "      .when(factors.Delivery == \"False\",\"NoDelivery\") \\\n",
    "    .when(factors.Delivery == \"None\",\"NotMentioned\") \\\n",
    "      .otherwise(factors.Delivery)) \\\n",
    "    .withColumn(\"DogsAllowed\", when(factors.DogsAllowed == \"True\",\"DogsAllowed\") \\\n",
    "      .when(factors.DogsAllowed == \"False\",\"DogsNotAllowed\") \\\n",
    "      .otherwise(factors.DogsAllowed)) \\\n",
    "    .withColumn(\"GoodForKids\", when(factors.GoodForKids == \"True\",\"GoodForKids\") \\\n",
    "      .when(factors.GoodForKids == \"False\",\"NotGoodForKids\") \\\n",
    "      .otherwise(factors.GoodForKids)) \n",
    "\n",
    "#convert to pandas dataframe\n",
    "factor_clean_pd = factor_clean.toPandas()\n"
   ]
  },
  {
   "cell_type": "code",
   "execution_count": 56,
   "id": "e0cfc747",
   "metadata": {},
   "outputs": [],
   "source": [
    "import seaborn as sns\n",
    "import matplotlib.pyplot as plt\n",
    "sns.set_theme(style=\"ticks\", color_codes=True)\n"
   ]
  },
  {
   "cell_type": "markdown",
   "id": "7fe09342",
   "metadata": {},
   "source": [
    "### Relationship Between Factors and Star Ratings"
   ]
  },
  {
   "cell_type": "code",
   "execution_count": 57,
   "id": "e7bb7e21",
   "metadata": {},
   "outputs": [
    {
     "data": {
      "image/png": "[encoded data removed]",
      "text/plain": [
       "<Figure size 1440x720 with 8 Axes>"
      ]
     },
     "metadata": {},
     "output_type": "display_data"
    }
   ],
   "source": [
    "fig, axs = plt.subplots (2, 4, figsize=(20, 10))\n",
    "\n",
    "fig.suptitle('Factors that Influence Stars',fontsize = 22)\n",
    "\n",
    "sns.boxplot(x='WheelChairAccessible', y='stars', data=factor_clean_pd, ax=axs[0,0])\n",
    "sns.boxplot(x='WiFi', y='stars', data=factor_clean_pd, ax=axs[0,1])\n",
    "sns.boxplot(x='TV', y='stars', data=factor_clean_pd, ax=axs[0,2])\n",
    "sns.boxplot(x='DriveThru', y='stars', data=factor_clean_pd, ax=axs[0,3])\n",
    "sns.boxplot(x='Smoking', y='stars', data=factor_clean_pd, ax=axs[1,0])\n",
    "sns.boxplot(x='Delivery', y='stars', data=factor_clean_pd, ax=axs[1,1])\n",
    "sns.boxplot(x='DogsAllowed', y='stars', data=factor_clean_pd, ax=axs[1,2])\n",
    "sns.boxplot(x='GoodForKids', y='stars', data=factor_clean_pd, ax=axs[1,3])\n",
    "plt.close(8)"
   ]
  },
  {
   "cell_type": "code",
   "execution_count": 58,
   "id": "f0972e78",
   "metadata": {},
   "outputs": [],
   "source": [
    "# Build lineaer regression model\n",
    "from sklearn.linear_model import LinearRegression\n",
    "\n",
    "factor_x = factor_clean_pd.loc[:, factor_clean_pd.columns != 'stars']\n",
    "\n",
    "# Creating dummy variables:\n",
    "factor_x = pd.get_dummies(factor_x).apply(pd.to_numeric, errors='coerce')\n",
    "\n",
    "factor_y = factor_clean_pd['stars'].apply(pd.to_numeric, errors='coerce')"
   ]
  },
  {
   "cell_type": "markdown",
   "id": "d5179d9b",
   "metadata": {},
   "source": [
    "### Top 5 Factors that Influence Star Ratings the Most"
   ]
  },
  {
   "cell_type": "code",
   "execution_count": 59,
   "id": "6fef16e4",
   "metadata": {},
   "outputs": [
    {
     "data": {
      "text/html": [
       "<div>\n",
       "<style scoped>\n",
       "    .dataframe tbody tr th:only-of-type {\n",
       "        vertical-align: middle;\n",
       "    }\n",
       "\n",
       "    .dataframe tbody tr th {\n",
       "        vertical-align: top;\n",
       "    }\n",
       "\n",
       "    .dataframe thead th {\n",
       "        text-align: right;\n",
       "    }\n",
       "</style>\n",
       "<table border=\"1\" class=\"dataframe\">\n",
       "  <thead>\n",
       "    <tr style=\"text-align: right;\">\n",
       "      <th></th>\n",
       "      <th>Factors</th>\n",
       "      <th>Coefficients</th>\n",
       "    </tr>\n",
       "  </thead>\n",
       "  <tbody>\n",
       "    <tr>\n",
       "      <th>10</th>\n",
       "      <td>Smoking_NoSmoking</td>\n",
       "      <td>1.694488e+14</td>\n",
       "    </tr>\n",
       "    <tr>\n",
       "      <th>11</th>\n",
       "      <td>Smoking_Smoking</td>\n",
       "      <td>1.694488e+14</td>\n",
       "    </tr>\n",
       "    <tr>\n",
       "      <th>4</th>\n",
       "      <td>WiFi_PaidWiFi</td>\n",
       "      <td>1.223902e+14</td>\n",
       "    </tr>\n",
       "    <tr>\n",
       "      <th>2</th>\n",
       "      <td>WiFi_FreeWiFi</td>\n",
       "      <td>1.223902e+14</td>\n",
       "    </tr>\n",
       "    <tr>\n",
       "      <th>3</th>\n",
       "      <td>WiFi_NoWiFi</td>\n",
       "      <td>1.223902e+14</td>\n",
       "    </tr>\n",
       "    <tr>\n",
       "      <th>15</th>\n",
       "      <td>DogsAllowed_DogsAllowed</td>\n",
       "      <td>8.732079e+13</td>\n",
       "    </tr>\n",
       "    <tr>\n",
       "      <th>16</th>\n",
       "      <td>DogsAllowed_DogsNotAllowed</td>\n",
       "      <td>8.732079e+13</td>\n",
       "    </tr>\n",
       "    <tr>\n",
       "      <th>14</th>\n",
       "      <td>Delivery_NotMentioned</td>\n",
       "      <td>2.693732e+13</td>\n",
       "    </tr>\n",
       "    <tr>\n",
       "      <th>12</th>\n",
       "      <td>Delivery_Delivery</td>\n",
       "      <td>2.693732e+13</td>\n",
       "    </tr>\n",
       "    <tr>\n",
       "      <th>13</th>\n",
       "      <td>Delivery_NoDelivery</td>\n",
       "      <td>2.693732e+13</td>\n",
       "    </tr>\n",
       "  </tbody>\n",
       "</table>\n",
       "</div>"
      ],
      "text/plain": [
       "                       Factors  Coefficients\n",
       "10           Smoking_NoSmoking  1.694488e+14\n",
       "11             Smoking_Smoking  1.694488e+14\n",
       "4                WiFi_PaidWiFi  1.223902e+14\n",
       "2                WiFi_FreeWiFi  1.223902e+14\n",
       "3                  WiFi_NoWiFi  1.223902e+14\n",
       "15     DogsAllowed_DogsAllowed  8.732079e+13\n",
       "16  DogsAllowed_DogsNotAllowed  8.732079e+13\n",
       "14       Delivery_NotMentioned  2.693732e+13\n",
       "12           Delivery_Delivery  2.693732e+13\n",
       "13         Delivery_NoDelivery  2.693732e+13"
      ]
     },
     "execution_count": 59,
     "metadata": {},
     "output_type": "execute_result"
    }
   ],
   "source": [
    "# Model intercepts\n",
    "\n",
    "model = LinearRegression().fit(factor_x, factor_y)\n",
    "factor_list = list(factor_x)\n",
    "factor_influence=pd.DataFrame({'Factors':factor_list, 'Coefficients':model.coef_}).sort_values(by=['Coefficients'], ascending = False)\n",
    "factor_influence.head(10)"
   ]
  },
  {
   "cell_type": "code",
   "execution_count": null,
   "id": "eee71c75",
   "metadata": {},
   "outputs": [],
   "source": []
  },
  {
   "cell_type": "markdown",
   "id": "0f292edc",
   "metadata": {},
   "source": [
    "## Identify Fake Reviews with Cross Validation"
   ]
  },
  {
   "cell_type": "code",
   "execution_count": 10,
   "id": "f6379c2f",
   "metadata": {},
   "outputs": [],
   "source": [
    "import seaborn as sns\n",
    "import matplotlib.pyplot as plt\n",
    "import matplotlib\n",
    "from pyspark.ml import Pipeline\n",
    "from pyspark.sql.functions import *\n",
    "import pyspark.sql.functions as F\n",
    "import pandas as pd"
   ]
  },
  {
   "cell_type": "code",
   "execution_count": 9,
   "id": "29a3970d",
   "metadata": {},
   "outputs": [
    {
     "name": "stderr",
     "output_type": "stream",
     "text": [
      "22/03/13 20:51:36 WARN org.apache.hadoop.util.concurrent.ExecutorHelper: Thread (Thread[GetFileInfo #0,5,main]) interrupted: \n",
      "java.lang.InterruptedException\n",
      "\tat com.google.common.util.concurrent.AbstractFuture.get(AbstractFuture.java:510)\n",
      "\tat com.google.common.util.concurrent.FluentFuture$TrustedFuture.get(FluentFuture.java:88)\n",
      "\tat org.apache.hadoop.util.concurrent.ExecutorHelper.logThrowableFromAfterExecute(ExecutorHelper.java:48)\n",
      "\tat org.apache.hadoop.util.concurrent.HadoopThreadPoolExecutor.afterExecute(HadoopThreadPoolExecutor.java:90)\n",
      "\tat java.util.concurrent.ThreadPoolExecutor.runWorker(ThreadPoolExecutor.java:1157)\n",
      "\tat java.util.concurrent.ThreadPoolExecutor$Worker.run(ThreadPoolExecutor.java:624)\n",
      "\tat java.lang.Thread.run(Thread.java:750)\n",
      "22/03/13 20:51:36 WARN org.apache.hadoop.util.concurrent.ExecutorHelper: Thread (Thread[GetFileInfo #1,5,main]) interrupted: \n",
      "java.lang.InterruptedException\n",
      "\tat com.google.common.util.concurrent.AbstractFuture.get(AbstractFuture.java:510)\n",
      "\tat com.google.common.util.concurrent.FluentFuture$TrustedFuture.get(FluentFuture.java:88)\n",
      "\tat org.apache.hadoop.util.concurrent.ExecutorHelper.logThrowableFromAfterExecute(ExecutorHelper.java:48)\n",
      "\tat org.apache.hadoop.util.concurrent.HadoopThreadPoolExecutor.afterExecute(HadoopThreadPoolExecutor.java:90)\n",
      "\tat java.util.concurrent.ThreadPoolExecutor.runWorker(ThreadPoolExecutor.java:1157)\n",
      "\tat java.util.concurrent.ThreadPoolExecutor$Worker.run(ThreadPoolExecutor.java:624)\n",
      "\tat java.lang.Thread.run(Thread.java:750)\n"
     ]
    }
   ],
   "source": [
    "# read the training and testing dataset into dataframe\n",
    "df_train=spark.read.option(\"header\",True). \\\n",
    "    option(\"multiLine\",True).option(\"escape\",\"\\'\").csv(path_train1)\n",
    "\n",
    "df_test=spark.read.option(\"header\",True). \\\n",
    "    option(\"multiLine\",True).option(\"escape\",\"\\'\").csv(path_train2)"
   ]
  },
  {
   "cell_type": "code",
   "execution_count": 12,
   "id": "1f014c63",
   "metadata": {},
   "outputs": [
    {
     "name": "stderr",
     "output_type": "stream",
     "text": [
      "                                                                                \r"
     ]
    },
    {
     "data": {
      "text/plain": [
       "250804"
      ]
     },
     "execution_count": 12,
     "metadata": {},
     "output_type": "execute_result"
    }
   ],
   "source": [
    "# label = 1 means fake reviews, and label = 0 for genuine reviews \n",
    "df_train.count()"
   ]
  },
  {
   "cell_type": "markdown",
   "id": "a6d58ff2",
   "metadata": {},
   "source": [
    "### EDA with Labeled Fake Review Dataset"
   ]
  },
  {
   "cell_type": "code",
   "execution_count": 16,
   "id": "305d23c6",
   "metadata": {},
   "outputs": [
    {
     "name": "stderr",
     "output_type": "stream",
     "text": [
      "                                                                                \r"
     ]
    },
    {
     "data": {
      "text/html": [
       "<div>\n",
       "<style scoped>\n",
       "    .dataframe tbody tr th:only-of-type {\n",
       "        vertical-align: middle;\n",
       "    }\n",
       "\n",
       "    .dataframe tbody tr th {\n",
       "        vertical-align: top;\n",
       "    }\n",
       "\n",
       "    .dataframe thead th {\n",
       "        text-align: right;\n",
       "    }\n",
       "</style>\n",
       "<table border=\"1\" class=\"dataframe\">\n",
       "  <thead>\n",
       "    <tr style=\"text-align: right;\">\n",
       "      <th></th>\n",
       "      <th>label</th>\n",
       "      <th>count</th>\n",
       "    </tr>\n",
       "  </thead>\n",
       "  <tbody>\n",
       "    <tr>\n",
       "      <th>0</th>\n",
       "      <td>0</td>\n",
       "      <td>225003</td>\n",
       "    </tr>\n",
       "    <tr>\n",
       "      <th>1</th>\n",
       "      <td>1</td>\n",
       "      <td>25801</td>\n",
       "    </tr>\n",
       "  </tbody>\n",
       "</table>\n",
       "</div>"
      ],
      "text/plain": [
       "  label   count\n",
       "0     0  225003\n",
       "1     1   25801"
      ]
     },
     "execution_count": 16,
     "metadata": {},
     "output_type": "execute_result"
    }
   ],
   "source": [
    "label_count = df_train.groupby('label').count().toPandas()\n",
    "label_count.head(2)"
   ]
  },
  {
   "cell_type": "code",
   "execution_count": 17,
   "id": "b582c8de",
   "metadata": {},
   "outputs": [
    {
     "data": {
      "image/png": "[encoded data removed]",
      "text/plain": [
       "<Figure size 432x288 with 1 Axes>"
      ]
     },
     "metadata": {},
     "output_type": "display_data"
    }
   ],
   "source": [
    "from matplotlib import pyplot as plt\n",
    "label_name = ['Genuine Review','Fake Review']\n",
    "colors = [\"#CCCCCC\",\"#F43939\"]\n",
    "explode = (0,0.2)\n",
    "plt.pie(label_count['count'], explode = explode, labels = label_name, colors = colors, radius = 1.4, autopct = '%1.1f%%')\n",
    "plt.legend()\n",
    "plt.title(\"Count of Genuine Review vs. Fake Review\")\n",
    "plt.show()"
   ]
  },
  {
   "cell_type": "markdown",
   "id": "df15fc55",
   "metadata": {},
   "source": [
    "### Since the dataset is imbalanced, we need to perform SMOTE (Synthetic Minority Oversampling TEchnique) to balance data."
   ]
  },
  {
   "cell_type": "markdown",
   "id": "d65933fc",
   "metadata": {},
   "source": [
    "# Fake Review Detection "
   ]
  },
  {
   "cell_type": "code",
   "execution_count": 13,
   "id": "eeee2d88",
   "metadata": {},
   "outputs": [],
   "source": [
    "df_train = df_train.drop(*(\"ex_id\",\"user_id\",\"prod_id\",\"rating\",\"date\"))\n",
    "df_test  = df_test.drop(*(\"ex_id\",\"user_id\",\"prod_id\",\"rating\",\"date\"))"
   ]
  },
  {
   "cell_type": "code",
   "execution_count": 14,
   "id": "227ca6c4",
   "metadata": {},
   "outputs": [],
   "source": [
    "def wordopt(df):\n",
    "  #  text = re.sub('[%s]' % re.escape(string.punctuation), '', text)\n",
    "    df = df.withColumn(\"review\", regexp_replace(col(\"review\"), '\\[.*?\\]', \" \"))     \n",
    "    df = df.withColumn(\"review\", regexp_replace(col(\"review\"), \"\\\\W\", \" \"))   \n",
    "    df = df.withColumn(\"review\", regexp_replace(col(\"review\"), 'https?://\\S+|www\\.\\S+', \" \"))   \n",
    "    df = df.withColumn(\"review\", regexp_replace(col(\"review\"), '<.*?>+', \" \"))       \n",
    "    df = df.withColumn(\"review\", regexp_replace(col(\"review\"), '\\n', \" \"))    \n",
    "    df = df.withColumn(\"review\", regexp_replace(col(\"review\"), '\\w*\\d\\w*', \" \"))\n",
    "    df = df.select(\"label\", lower(col(\"review\")).alias(\"review\"))\n",
    "    df = df.withColumn(\"review\", regexp_replace(col(\"review\"), \"[^A-Za-z]\", \" \"))\n",
    "    return df"
   ]
  },
  {
   "cell_type": "code",
   "execution_count": 15,
   "id": "7e1db43a",
   "metadata": {},
   "outputs": [],
   "source": [
    "df_train2 = wordopt(df_train)\n",
    "df_test2 = wordopt(df_test)"
   ]
  },
  {
   "cell_type": "code",
   "execution_count": 16,
   "id": "94c66528",
   "metadata": {},
   "outputs": [
    {
     "name": "stdout",
     "output_type": "stream",
     "text": [
      "+-----+--------------------+\n",
      "|label|              review|\n",
      "+-----+--------------------+\n",
      "|    1|the food at snack...|\n",
      "|    1|this little place...|\n",
      "|    1|ordered lunch for...|\n",
      "|    1|this is a beautif...|\n",
      "|    1| snack is great p...|\n",
      "+-----+--------------------+\n",
      "only showing top 5 rows\n",
      "\n"
     ]
    }
   ],
   "source": [
    "df_train2.show(5)"
   ]
  },
  {
   "cell_type": "code",
   "execution_count": 17,
   "id": "4fe54cd1",
   "metadata": {},
   "outputs": [],
   "source": [
    "#df_train = df_train.withColumn(\"review\", regexp_replace(col(\"review\"), \"[^A-Za-z]\", \" \"))\n",
    "#df_test = df_test.withColumn(\"review\", regexp_replace(col(\"review\"), \"[^A-Za-z]\", \" \"))"
   ]
  },
  {
   "cell_type": "code",
   "execution_count": 18,
   "id": "f30e4aac",
   "metadata": {},
   "outputs": [],
   "source": [
    "df_train2 =  df_train2.withColumnRenamed(\"label\",\"is_fake\")\n",
    "df_test2 =  df_test2.withColumnRenamed(\"label\",\"is_fake\")"
   ]
  },
  {
   "cell_type": "code",
   "execution_count": 19,
   "id": "da9daef4",
   "metadata": {},
   "outputs": [],
   "source": [
    "from pyspark.ml.feature import HashingTF, IDF, Tokenizer\n",
    "from pyspark.ml.feature import StopWordsRemover\n",
    "from pyspark.ml.feature import Word2Vec\n",
    "from pyspark.ml.feature import StringIndexer\n",
    "from pyspark.ml.feature import RegexTokenizer, StopWordsRemover, CountVectorizer\n",
    "from pyspark.ml.feature import HashingTF, IDF\n",
    "\n",
    "tokenizer = Tokenizer(inputCol=\"review\", outputCol=\"words\")  #tokenize words\n",
    "remover = StopWordsRemover(inputCol=\"words\", outputCol=\"filtered\")  #remove stop words\n",
    "word2Vec = Word2Vec(vectorSize=100, inputCol=\"filtered\", outputCol=\"features\")\n",
    "indexer = StringIndexer(inputCol=\"is_fake\", outputCol=\"label\") "
   ]
  },
  {
   "cell_type": "code",
   "execution_count": 20,
   "id": "45595be2",
   "metadata": {},
   "outputs": [
    {
     "name": "stderr",
     "output_type": "stream",
     "text": [
      "22/03/13 21:02:17 WARN com.github.fommil.netlib.BLAS: Failed to load implementation from: com.github.fommil.netlib.NativeSystemBLAS\n",
      "22/03/13 21:02:17 WARN com.github.fommil.netlib.BLAS: Failed to load implementation from: com.github.fommil.netlib.NativeRefBLAS\n",
      "                                                                                \r"
     ]
    }
   ],
   "source": [
    "pipeline = Pipeline(stages=[tokenizer, remover, word2Vec, indexer])\n",
    "train = pipeline.fit(df_train2).transform(df_train2)\n",
    "train = train.drop(*(\"review\", \"words\"))"
   ]
  },
  {
   "cell_type": "code",
   "execution_count": 21,
   "id": "d7efd957",
   "metadata": {},
   "outputs": [
    {
     "name": "stderr",
     "output_type": "stream",
     "text": [
      "                                                                                \r"
     ]
    }
   ],
   "source": [
    "pipeline = Pipeline(stages=[tokenizer, remover, word2Vec, indexer])\n",
    "test = pipeline.fit(df_test2).transform(df_test2)\n",
    "test = test.drop(*(\"review\", \"words\"))"
   ]
  },
  {
   "cell_type": "code",
   "execution_count": 23,
   "id": "6eb439f3",
   "metadata": {},
   "outputs": [
    {
     "name": "stdout",
     "output_type": "stream",
     "text": [
      "+-------+--------------------+--------------------+-----+\n",
      "|is_fake|            filtered|            features|label|\n",
      "+-------+--------------------+--------------------+-----+\n",
      "|      1|[around, good, pl...|[0.00328197547545...|  1.0|\n",
      "|      0|[lunch, , friend,...|[0.07813010432772...|  0.0|\n",
      "|      0|[good, big, greek...|[-0.0458766429219...|  0.0|\n",
      "|      0|[, , , may, notic...|[0.08775192833993...|  0.0|\n",
      "|      0|[, understand, wh...|[-0.0631564646693...|  0.0|\n",
      "+-------+--------------------+--------------------+-----+\n",
      "only showing top 5 rows\n",
      "\n"
     ]
    }
   ],
   "source": [
    "test.show(5)"
   ]
  },
  {
   "cell_type": "markdown",
   "id": "56bd9aa7",
   "metadata": {},
   "source": [
    "## Oversampling "
   ]
  },
  {
   "cell_type": "code",
   "execution_count": 24,
   "id": "8210b302",
   "metadata": {},
   "outputs": [
    {
     "name": "stderr",
     "output_type": "stream",
     "text": [
      "                                                                                \r"
     ]
    }
   ],
   "source": [
    "major_df = train.filter(col(\"label\") == 0)\n",
    "minor_df = train.filter(col(\"label\") == 1)\n",
    "ratio = int(major_df.count()/minor_df.count())"
   ]
  },
  {
   "cell_type": "code",
   "execution_count": 25,
   "id": "d1aded11",
   "metadata": {},
   "outputs": [
    {
     "name": "stdout",
     "output_type": "stream",
     "text": [
      "+-------+--------------------+--------------------+-----+\n",
      "|is_fake|            filtered|            features|label|\n",
      "+-------+--------------------+--------------------+-----+\n",
      "|      0|[braised, lamb, s...|[0.01540724855294...|  0.0|\n",
      "|      0|[, spot, close, j...|[-0.0089674222334...|  0.0|\n",
      "|      0|[, needed, quick,...|[0.03909747155323...|  0.0|\n",
      "|      0|[artichoke, chick...|[-0.0118724666535...|  0.0|\n",
      "|      0|[needed, quick, b...|[0.05870454307072...|  0.0|\n",
      "+-------+--------------------+--------------------+-----+\n",
      "only showing top 5 rows\n",
      "\n"
     ]
    }
   ],
   "source": [
    "a = range(ratio)\n",
    "# duplicate the minority rows\n",
    "oversampled_df = minor_df.withColumn(\"dummy\", explode(array([lit(x) for x in a]))).drop('dummy')\n",
    "# combine both oversampled minority rows and previous majority rows \n",
    "combined_df = major_df.unionAll(oversampled_df)\n",
    "combined_df.show(5)"
   ]
  },
  {
   "cell_type": "code",
   "execution_count": 34,
   "id": "3c5892f4",
   "metadata": {},
   "outputs": [
    {
     "name": "stderr",
     "output_type": "stream",
     "text": [
      "[Stage 63:=========>        (1 + 1) / 2][Stage 64:=========>        (1 + 1) / 2]\r"
     ]
    },
    {
     "name": "stdout",
     "output_type": "stream",
     "text": [
      "+-----+------+\n",
      "|label| count|\n",
      "+-----+------+\n",
      "|  0.0|225003|\n",
      "|  1.0|206408|\n",
      "+-----+------+\n",
      "\n"
     ]
    },
    {
     "name": "stderr",
     "output_type": "stream",
     "text": [
      "                                                                                \r"
     ]
    }
   ],
   "source": [
    "combined_df.groupby('label').count().show()"
   ]
  },
  {
   "cell_type": "markdown",
   "id": "e11e595e",
   "metadata": {},
   "source": [
    "## UnderSampling"
   ]
  },
  {
   "cell_type": "code",
   "execution_count": 103,
   "id": "99952603",
   "metadata": {},
   "outputs": [
    {
     "name": "stderr",
     "output_type": "stream",
     "text": [
      "                                                                                \r"
     ]
    }
   ],
   "source": [
    "major_df = train.filter(col(\"label\") == 0)\n",
    "minor_df = train.filter(col(\"label\") == 1)\n",
    "ratio = major_df.count()/minor_df.count()"
   ]
  },
  {
   "cell_type": "code",
   "execution_count": 104,
   "id": "038957bf",
   "metadata": {
    "collapsed": true,
    "jupyter": {
     "outputs_hidden": true
    },
    "tags": []
   },
   "outputs": [
    {
     "name": "stderr",
     "output_type": "stream",
     "text": [
      "[Stage 485:>                                                        (0 + 1) / 1]\r"
     ]
    },
    {
     "name": "stdout",
     "output_type": "stream",
     "text": [
      "+-------+--------------------+--------------------+-----+\n",
      "|is_fake|            filtered|            features|label|\n",
      "+-------+--------------------+--------------------+-----+\n",
      "|      0|[needed, quick, b...|[0.05870454307072...|  0.0|\n",
      "|      0|[taramosalata, di...|[0.13888604926048...|  0.0|\n",
      "|      0|[delicious, , sav...|[0.00276788700879...|  0.0|\n",
      "|      0|[whole, wall, , g...|[0.01100444131971...|  0.0|\n",
      "|      0|[oh, goodness, , ...|[0.01730425100765...|  0.0|\n",
      "|      0|[decent, mediterr...|[0.07562167395619...|  0.0|\n",
      "|      0|[snack, simple, ,...|[0.07458538342810...|  0.0|\n",
      "|      0|[charming, spot, ...|[0.09765586953748...|  0.0|\n",
      "|      0|[weather, amazing...|[0.01976518671381...|  0.0|\n",
      "|      0|[favorite, restau...|[0.07752093645157...|  0.0|\n",
      "|      0|[feta, mezze, war...|[0.05145353689523...|  0.0|\n",
      "|      0|[, say, , , lamb,...|[0.09814335443661...|  0.0|\n",
      "|      0|[looking, casual,...|[0.03068050056754...|  0.0|\n",
      "|      0|[gotta, say, , im...|[0.03937633978351...|  0.0|\n",
      "|      0|[excellent, pizza...|[0.04225797284590...|  0.0|\n",
      "|      0|[ve, never, eaten...|[0.03277199691551...|  0.0|\n",
      "|      0|[really, good, pi...|[-0.0267469616872...|  0.0|\n",
      "|      0|[place, might, sc...|[0.01346452335495...|  0.0|\n",
      "|      0|[far, ve, ordered...|[0.08331040583555...|  0.0|\n",
      "|      0|[delicious, pizza...|[0.06327659865333...|  0.0|\n",
      "+-------+--------------------+--------------------+-----+\n",
      "only showing top 20 rows\n",
      "\n"
     ]
    },
    {
     "name": "stderr",
     "output_type": "stream",
     "text": [
      "                                                                                \r"
     ]
    }
   ],
   "source": [
    "sampled_majority_df = major_df.sample(False, 1/ratio)\n",
    "combined_df_2 = sampled_majority_df.unionAll(minor_df)\n",
    "combined_df_2.show()"
   ]
  },
  {
   "cell_type": "code",
   "execution_count": 106,
   "id": "3f9d5b1a",
   "metadata": {},
   "outputs": [
    {
     "name": "stderr",
     "output_type": "stream",
     "text": [
      "                                                                                \r"
     ]
    },
    {
     "name": "stdout",
     "output_type": "stream",
     "text": [
      "+-----+-----+\n",
      "|label|count|\n",
      "+-----+-----+\n",
      "|  0.0|25989|\n",
      "|  1.0|25801|\n",
      "+-----+-----+\n",
      "\n"
     ]
    }
   ],
   "source": [
    "combined_df_2.groupby('label').count().show()"
   ]
  },
  {
   "cell_type": "code",
   "execution_count": 93,
   "id": "a8bc8b60",
   "metadata": {},
   "outputs": [],
   "source": [
    "train = combined_df_2"
   ]
  },
  {
   "cell_type": "code",
   "execution_count": 27,
   "id": "0f059385",
   "metadata": {},
   "outputs": [
    {
     "name": "stderr",
     "output_type": "stream",
     "text": [
      "[Stage 38:>                                                         (0 + 1) / 1]\r"
     ]
    },
    {
     "name": "stdout",
     "output_type": "stream",
     "text": [
      "+-----+------+\n",
      "|label| count|\n",
      "+-----+------+\n",
      "|    0|225003|\n",
      "|    1| 25801|\n",
      "+-----+------+\n",
      "\n"
     ]
    },
    {
     "name": "stderr",
     "output_type": "stream",
     "text": [
      "                                                                                \r"
     ]
    }
   ],
   "source": [
    "train.groupby('label').count().show()"
   ]
  },
  {
   "cell_type": "markdown",
   "id": "77dd76b5",
   "metadata": {},
   "source": [
    "## Logistic Regression "
   ]
  },
  {
   "cell_type": "code",
   "execution_count": 28,
   "id": "67028417",
   "metadata": {},
   "outputs": [],
   "source": [
    "from pyspark.ml.evaluation import BinaryClassificationEvaluator, MulticlassClassificationEvaluator\n",
    "from pyspark.ml.classification import LogisticRegression"
   ]
  },
  {
   "cell_type": "code",
   "execution_count": 96,
   "id": "6ecb72d5",
   "metadata": {},
   "outputs": [
    {
     "name": "stderr",
     "output_type": "stream",
     "text": [
      "                                                                                \r"
     ]
    }
   ],
   "source": [
    "balancingRatio = train.filter(col(\"label\") == 0).count() / train.count()\n",
    "balancingRatio\n",
    "\n",
    "calculateWeights = udf(lambda x: 1 * balancingRatio if x == 0 else (1 * (1.0 - balancingRatio)))\n",
    "weightedDataset = train.withColumn(\"classWeightCol\", calculateWeights(\"label\"))\n",
    "weightedDataset = weightedDataset.withColumn(\"classWeightCol\",weightedDataset.classWeightCol.cast('double'))"
   ]
  },
  {
   "cell_type": "code",
   "execution_count": 97,
   "id": "d574c93d",
   "metadata": {},
   "outputs": [
    {
     "name": "stderr",
     "output_type": "stream",
     "text": [
      "[Stage 375:>                                                        (0 + 1) / 1]\r"
     ]
    },
    {
     "name": "stdout",
     "output_type": "stream",
     "text": [
      "+-------+--------------------+--------------------+-----+-------------------+\n",
      "|is_fake|            filtered|            features|label|     classWeightCol|\n",
      "+-------+--------------------+--------------------+-----+-------------------+\n",
      "|      1|[food, snack, sel...|[-0.0295028071492...|  1.0|0.10287315991770463|\n",
      "|      1|[little, place, s...|[0.04536651419475...|  1.0|0.10287315991770463|\n",
      "|      1|[ordered, lunch, ...|[0.01252918908945...|  1.0|0.10287315991770463|\n",
      "|      1|[beautiful, quain...|[0.05172252873154...|  1.0|0.10287315991770463|\n",
      "|      1|[, snack, great, ...|[-0.0042401832972...|  1.0|0.10287315991770463|\n",
      "+-------+--------------------+--------------------+-----+-------------------+\n",
      "only showing top 5 rows\n",
      "\n"
     ]
    },
    {
     "name": "stderr",
     "output_type": "stream",
     "text": [
      "                                                                                \r"
     ]
    }
   ],
   "source": [
    "weightedDataset.show(5)"
   ]
  },
  {
   "cell_type": "code",
   "execution_count": 98,
   "id": "3209995e",
   "metadata": {},
   "outputs": [
    {
     "name": "stderr",
     "output_type": "stream",
     "text": [
      "                                                                                \r"
     ]
    }
   ],
   "source": [
    "#Logistic Regression Model\n",
    "lr = LogisticRegression(weightCol=\"classWeightCol\")\n",
    "#lr = LogisticRegression()\n",
    "\n",
    "# Predict each point's label and show the results.\n",
    "lrm = lr.fit(weightedDataset)\n",
    "predictions = lrm.transform(test)"
   ]
  },
  {
   "cell_type": "code",
   "execution_count": 99,
   "id": "046c6523",
   "metadata": {},
   "outputs": [
    {
     "name": "stderr",
     "output_type": "stream",
     "text": [
      "                                                                                \r"
     ]
    },
    {
     "name": "stdout",
     "output_type": "stream",
     "text": [
      "0.8978307482387012\n"
     ]
    },
    {
     "name": "stderr",
     "output_type": "stream",
     "text": [
      "[Stage 471:>                                                        (0 + 1) / 1]\r"
     ]
    },
    {
     "name": "stdout",
     "output_type": "stream",
     "text": [
      "0.850745017516541\n"
     ]
    },
    {
     "name": "stderr",
     "output_type": "stream",
     "text": [
      "                                                                                \r"
     ]
    }
   ],
   "source": [
    "#print evaluation metrics\n",
    "evaluator = MulticlassClassificationEvaluator(labelCol=\"label\", predictionCol=\"prediction\")\n",
    "\n",
    "print(evaluator.evaluate(predictions, {evaluator.metricName: \"accuracy\"}))\n",
    "print(evaluator.evaluate(predictions, {evaluator.metricName: \"f1\"}))"
   ]
  },
  {
   "cell_type": "code",
   "execution_count": 68,
   "id": "b60ac18b",
   "metadata": {},
   "outputs": [
    {
     "name": "stdout",
     "output_type": "stream",
     "text": [
      "+-------+--------------------+--------------------+-----+--------------------+--------------------+----------+\n",
      "|is_fake|            filtered|            features|label|       rawPrediction|         probability|prediction|\n",
      "+-------+--------------------+--------------------+-----+--------------------+--------------------+----------+\n",
      "|      1|[allaroundgoodpla...|[0.0,0.0,0.0,0.0,...|  1.0|[0.00597567261906...|[0.50149391370929...|       0.0|\n",
      "|      0|[forlunchmyfriend...|[0.0,0.0,0.0,0.0,...|  0.0|[0.00597567261906...|[0.50149391370929...|       0.0|\n",
      "|      0|[somegoodbiggreek...|[0.0,0.0,0.0,0.0,...|  0.0|[0.00597567261906...|[0.50149391370929...|       0.0|\n",
      "|      0|[soasyoumaynotice...|[0.0,0.0,0.0,0.0,...|  0.0|[0.00597567261906...|[0.50149391370929...|       0.0|\n",
      "|      0|[idontunderstandt...|[0.0,0.0,0.0,0.0,...|  0.0|[0.00597567261906...|[0.50149391370929...|       0.0|\n",
      "|      0|[yumsijusttriedth...|[0.0,0.0,0.0,0.0,...|  0.0|[0.00597567261906...|[0.50149391370929...|       0.0|\n",
      "|      0|[deliciousgetther...|[0.0,0.0,0.0,0.0,...|  0.0|[0.00597567261906...|[0.50149391370929...|       0.0|\n",
      "|      0|[wewouldlovetocom...|[0.0,0.0,0.0,0.0,...|  0.0|[0.00597567261906...|[0.50149391370929...|       0.0|\n",
      "|      0|[snackisanadorabl...|[0.0,0.0,0.0,0.0,...|  0.0|[0.00597567261906...|[0.50149391370929...|       0.0|\n",
      "|      0|[exploringsohoand...|[0.0,0.0,0.0,0.0,...|  0.0|[0.00597567261906...|[0.50149391370929...|       0.0|\n",
      "+-------+--------------------+--------------------+-----+--------------------+--------------------+----------+\n",
      "only showing top 10 rows\n",
      "\n"
     ]
    }
   ],
   "source": [
    "predictions.show(10)"
   ]
  },
  {
   "cell_type": "markdown",
   "id": "caaef220",
   "metadata": {},
   "source": [
    "## SVM"
   ]
  },
  {
   "cell_type": "code",
   "execution_count": 32,
   "id": "ee2d4b45",
   "metadata": {},
   "outputs": [],
   "source": [
    "from pyspark.ml.classification import LinearSVC"
   ]
  },
  {
   "cell_type": "code",
   "execution_count": null,
   "id": "490cc8a7",
   "metadata": {
    "tags": []
   },
   "outputs": [
    {
     "name": "stderr",
     "output_type": "stream",
     "text": [
      "                                                                                \r"
     ]
    }
   ],
   "source": [
    "lsvc = LinearSVC()\n",
    "rfcm = lsvc.fit(combined_df)\n",
    "predictions = rfcm.transform(test)\n",
    "\n",
    "#print evaluation metrics\n",
    "evaluator = MulticlassClassificationEvaluator(labelCol=\"label\", predictionCol=\"prediction\")\n",
    "\n",
    "print(evaluator.evaluate(predictions, {evaluator.metricName: \"accuracy\"}))\n",
    "print(evaluator.evaluate(predictions, {evaluator.metricName: \"f1\"}))"
   ]
  },
  {
   "cell_type": "markdown",
   "id": "10df990c",
   "metadata": {},
   "source": [
    "## Random Forest"
   ]
  },
  {
   "cell_type": "code",
   "execution_count": 37,
   "id": "1d0eb62a",
   "metadata": {},
   "outputs": [],
   "source": [
    "from pyspark.ml.classification import RandomForestClassifier\n",
    "rf = RandomForestClassifier()"
   ]
  },
  {
   "cell_type": "code",
   "execution_count": 29,
   "id": "8f275405",
   "metadata": {},
   "outputs": [
    {
     "name": "stderr",
     "output_type": "stream",
     "text": [
      "                                                                                \r"
     ]
    },
    {
     "name": "stdout",
     "output_type": "stream",
     "text": [
      "0.6213416501907494\n"
     ]
    },
    {
     "name": "stderr",
     "output_type": "stream",
     "text": [
      "[Stage 55:>                                                         (0 + 1) / 1]\r"
     ]
    },
    {
     "name": "stdout",
     "output_type": "stream",
     "text": [
      "0.694682594613107\n"
     ]
    },
    {
     "name": "stderr",
     "output_type": "stream",
     "text": [
      "                                                                                \r"
     ]
    }
   ],
   "source": [
    "# Train model with Training Data\n",
    "rfModel = rf.fit(combined_df)\n",
    "predictions = rfModel.transform(test)\n",
    "\n",
    "#print evaluation metrics\n",
    "evaluator = MulticlassClassificationEvaluator(labelCol=\"label\", predictionCol=\"prediction\")\n",
    "\n",
    "print(evaluator.evaluate(predictions, {evaluator.metricName: \"accuracy\"}))\n",
    "print(evaluator.evaluate(predictions, {evaluator.metricName: \"f1\"}))"
   ]
  },
  {
   "cell_type": "code",
   "execution_count": 36,
   "id": "76e4e11e",
   "metadata": {
    "collapsed": true,
    "jupyter": {
     "outputs_hidden": true
    },
    "tags": []
   },
   "outputs": [
    {
     "ename": "IllegalArgumentException",
     "evalue": "BinaryClassificationEvaluator_cfd396e66d0a parameter metricName given invalid value accuracy.",
     "output_type": "error",
     "traceback": [
      "\u001b[0;31m---------------------------------------------------------------------------\u001b[0m",
      "\u001b[0;31mIllegalArgumentException\u001b[0m                  Traceback (most recent call last)",
      "Input \u001b[0;32mIn [36]\u001b[0m, in \u001b[0;36m<module>\u001b[0;34m\u001b[0m\n\u001b[1;32m      1\u001b[0m evaluator \u001b[38;5;241m=\u001b[39m BinaryClassificationEvaluator()\n\u001b[0;32m----> 3\u001b[0m \u001b[38;5;28mprint\u001b[39m(\u001b[43mevaluator\u001b[49m\u001b[38;5;241;43m.\u001b[39;49m\u001b[43mevaluate\u001b[49m\u001b[43m(\u001b[49m\u001b[43mpredictions\u001b[49m\u001b[43m,\u001b[49m\u001b[43m \u001b[49m\u001b[43m{\u001b[49m\u001b[43mevaluator\u001b[49m\u001b[38;5;241;43m.\u001b[39;49m\u001b[43mmetricName\u001b[49m\u001b[43m:\u001b[49m\u001b[43m \u001b[49m\u001b[38;5;124;43m\"\u001b[39;49m\u001b[38;5;124;43maccuracy\u001b[39;49m\u001b[38;5;124;43m\"\u001b[39;49m\u001b[43m}\u001b[49m\u001b[43m)\u001b[49m)\n\u001b[1;32m      4\u001b[0m \u001b[38;5;28mprint\u001b[39m(evaluator\u001b[38;5;241m.\u001b[39mevaluate(predictions, {evaluator\u001b[38;5;241m.\u001b[39mmetricName: \u001b[38;5;124m\"\u001b[39m\u001b[38;5;124mf1\u001b[39m\u001b[38;5;124m\"\u001b[39m}))\n",
      "File \u001b[0;32m/usr/lib/spark/python/pyspark/ml/evaluation.py:82\u001b[0m, in \u001b[0;36mEvaluator.evaluate\u001b[0;34m(self, dataset, params)\u001b[0m\n\u001b[1;32m     80\u001b[0m \u001b[38;5;28;01mif\u001b[39;00m \u001b[38;5;28misinstance\u001b[39m(params, \u001b[38;5;28mdict\u001b[39m):\n\u001b[1;32m     81\u001b[0m     \u001b[38;5;28;01mif\u001b[39;00m params:\n\u001b[0;32m---> 82\u001b[0m         \u001b[38;5;28;01mreturn\u001b[39;00m \u001b[38;5;28;43mself\u001b[39;49m\u001b[38;5;241;43m.\u001b[39;49m\u001b[43mcopy\u001b[49m\u001b[43m(\u001b[49m\u001b[43mparams\u001b[49m\u001b[43m)\u001b[49m\u001b[38;5;241m.\u001b[39m_evaluate(dataset)\n\u001b[1;32m     83\u001b[0m     \u001b[38;5;28;01melse\u001b[39;00m:\n\u001b[1;32m     84\u001b[0m         \u001b[38;5;28;01mreturn\u001b[39;00m \u001b[38;5;28mself\u001b[39m\u001b[38;5;241m.\u001b[39m_evaluate(dataset)\n",
      "File \u001b[0;32m/usr/lib/spark/python/pyspark/ml/wrapper.py:291\u001b[0m, in \u001b[0;36mJavaParams.copy\u001b[0;34m(self, extra)\u001b[0m\n\u001b[1;32m    289\u001b[0m \u001b[38;5;28;01mif\u001b[39;00m \u001b[38;5;28mself\u001b[39m\u001b[38;5;241m.\u001b[39m_java_obj \u001b[38;5;129;01mis\u001b[39;00m \u001b[38;5;129;01mnot\u001b[39;00m \u001b[38;5;28;01mNone\u001b[39;00m:\n\u001b[1;32m    290\u001b[0m     that\u001b[38;5;241m.\u001b[39m_java_obj \u001b[38;5;241m=\u001b[39m \u001b[38;5;28mself\u001b[39m\u001b[38;5;241m.\u001b[39m_java_obj\u001b[38;5;241m.\u001b[39mcopy(\u001b[38;5;28mself\u001b[39m\u001b[38;5;241m.\u001b[39m_empty_java_param_map())\n\u001b[0;32m--> 291\u001b[0m     \u001b[43mthat\u001b[49m\u001b[38;5;241;43m.\u001b[39;49m\u001b[43m_transfer_params_to_java\u001b[49m\u001b[43m(\u001b[49m\u001b[43m)\u001b[49m\n\u001b[1;32m    292\u001b[0m \u001b[38;5;28;01mreturn\u001b[39;00m that\n",
      "File \u001b[0;32m/usr/lib/spark/python/pyspark/ml/wrapper.py:143\u001b[0m, in \u001b[0;36mJavaParams._transfer_params_to_java\u001b[0;34m(self)\u001b[0m\n\u001b[1;32m    141\u001b[0m \u001b[38;5;28;01mfor\u001b[39;00m param \u001b[38;5;129;01min\u001b[39;00m \u001b[38;5;28mself\u001b[39m\u001b[38;5;241m.\u001b[39mparams:\n\u001b[1;32m    142\u001b[0m     \u001b[38;5;28;01mif\u001b[39;00m \u001b[38;5;28mself\u001b[39m\u001b[38;5;241m.\u001b[39misSet(param):\n\u001b[0;32m--> 143\u001b[0m         pair \u001b[38;5;241m=\u001b[39m \u001b[38;5;28;43mself\u001b[39;49m\u001b[38;5;241;43m.\u001b[39;49m\u001b[43m_make_java_param_pair\u001b[49m\u001b[43m(\u001b[49m\u001b[43mparam\u001b[49m\u001b[43m,\u001b[49m\u001b[43m \u001b[49m\u001b[38;5;28;43mself\u001b[39;49m\u001b[38;5;241;43m.\u001b[39;49m\u001b[43m_paramMap\u001b[49m\u001b[43m[\u001b[49m\u001b[43mparam\u001b[49m\u001b[43m]\u001b[49m\u001b[43m)\u001b[49m\n\u001b[1;32m    144\u001b[0m         \u001b[38;5;28mself\u001b[39m\u001b[38;5;241m.\u001b[39m_java_obj\u001b[38;5;241m.\u001b[39mset(pair)\n\u001b[1;32m    145\u001b[0m     \u001b[38;5;28;01mif\u001b[39;00m \u001b[38;5;28mself\u001b[39m\u001b[38;5;241m.\u001b[39mhasDefault(param):\n",
      "File \u001b[0;32m/usr/lib/spark/python/pyspark/ml/wrapper.py:134\u001b[0m, in \u001b[0;36mJavaParams._make_java_param_pair\u001b[0;34m(self, param, value)\u001b[0m\n\u001b[1;32m    132\u001b[0m java_param \u001b[38;5;241m=\u001b[39m \u001b[38;5;28mself\u001b[39m\u001b[38;5;241m.\u001b[39m_java_obj\u001b[38;5;241m.\u001b[39mgetParam(param\u001b[38;5;241m.\u001b[39mname)\n\u001b[1;32m    133\u001b[0m java_value \u001b[38;5;241m=\u001b[39m _py2java(sc, value)\n\u001b[0;32m--> 134\u001b[0m \u001b[38;5;28;01mreturn\u001b[39;00m \u001b[43mjava_param\u001b[49m\u001b[38;5;241;43m.\u001b[39;49m\u001b[43mw\u001b[49m\u001b[43m(\u001b[49m\u001b[43mjava_value\u001b[49m\u001b[43m)\u001b[49m\n",
      "File \u001b[0;32m/usr/lib/spark/python/lib/py4j-0.10.9-src.zip/py4j/java_gateway.py:1304\u001b[0m, in \u001b[0;36mJavaMember.__call__\u001b[0;34m(self, *args)\u001b[0m\n\u001b[1;32m   1298\u001b[0m command \u001b[38;5;241m=\u001b[39m proto\u001b[38;5;241m.\u001b[39mCALL_COMMAND_NAME \u001b[38;5;241m+\u001b[39m\\\n\u001b[1;32m   1299\u001b[0m     \u001b[38;5;28mself\u001b[39m\u001b[38;5;241m.\u001b[39mcommand_header \u001b[38;5;241m+\u001b[39m\\\n\u001b[1;32m   1300\u001b[0m     args_command \u001b[38;5;241m+\u001b[39m\\\n\u001b[1;32m   1301\u001b[0m     proto\u001b[38;5;241m.\u001b[39mEND_COMMAND_PART\n\u001b[1;32m   1303\u001b[0m answer \u001b[38;5;241m=\u001b[39m \u001b[38;5;28mself\u001b[39m\u001b[38;5;241m.\u001b[39mgateway_client\u001b[38;5;241m.\u001b[39msend_command(command)\n\u001b[0;32m-> 1304\u001b[0m return_value \u001b[38;5;241m=\u001b[39m \u001b[43mget_return_value\u001b[49m\u001b[43m(\u001b[49m\n\u001b[1;32m   1305\u001b[0m \u001b[43m    \u001b[49m\u001b[43manswer\u001b[49m\u001b[43m,\u001b[49m\u001b[43m \u001b[49m\u001b[38;5;28;43mself\u001b[39;49m\u001b[38;5;241;43m.\u001b[39;49m\u001b[43mgateway_client\u001b[49m\u001b[43m,\u001b[49m\u001b[43m \u001b[49m\u001b[38;5;28;43mself\u001b[39;49m\u001b[38;5;241;43m.\u001b[39;49m\u001b[43mtarget_id\u001b[49m\u001b[43m,\u001b[49m\u001b[43m \u001b[49m\u001b[38;5;28;43mself\u001b[39;49m\u001b[38;5;241;43m.\u001b[39;49m\u001b[43mname\u001b[49m\u001b[43m)\u001b[49m\n\u001b[1;32m   1307\u001b[0m \u001b[38;5;28;01mfor\u001b[39;00m temp_arg \u001b[38;5;129;01min\u001b[39;00m temp_args:\n\u001b[1;32m   1308\u001b[0m     temp_arg\u001b[38;5;241m.\u001b[39m_detach()\n",
      "File \u001b[0;32m/usr/lib/spark/python/pyspark/sql/utils.py:117\u001b[0m, in \u001b[0;36mcapture_sql_exception.<locals>.deco\u001b[0;34m(*a, **kw)\u001b[0m\n\u001b[1;32m    113\u001b[0m converted \u001b[38;5;241m=\u001b[39m convert_exception(e\u001b[38;5;241m.\u001b[39mjava_exception)\n\u001b[1;32m    114\u001b[0m \u001b[38;5;28;01mif\u001b[39;00m \u001b[38;5;129;01mnot\u001b[39;00m \u001b[38;5;28misinstance\u001b[39m(converted, UnknownException):\n\u001b[1;32m    115\u001b[0m     \u001b[38;5;66;03m# Hide where the exception came from that shows a non-Pythonic\u001b[39;00m\n\u001b[1;32m    116\u001b[0m     \u001b[38;5;66;03m# JVM exception message.\u001b[39;00m\n\u001b[0;32m--> 117\u001b[0m     \u001b[38;5;28;01mraise\u001b[39;00m converted \u001b[38;5;28;01mfrom\u001b[39;00m \u001b[38;5;28mNone\u001b[39m\n\u001b[1;32m    118\u001b[0m \u001b[38;5;28;01melse\u001b[39;00m:\n\u001b[1;32m    119\u001b[0m     \u001b[38;5;28;01mraise\u001b[39;00m\n",
      "\u001b[0;31mIllegalArgumentException\u001b[0m: BinaryClassificationEvaluator_cfd396e66d0a parameter metricName given invalid value accuracy."
     ]
    }
   ],
   "source": [
    "evaluator = BinaryClassificationEvaluator()\n",
    "\n",
    "print(evaluator.evaluate(predictions, {evaluator.metricName: \"accuracy\"}))\n",
    "print(evaluator.evaluate(predictions, {evaluator.metricName: \"f1\"}))"
   ]
  },
  {
   "cell_type": "markdown",
   "id": "1cb61a4e",
   "metadata": {},
   "source": [
    "## practice"
   ]
  },
  {
   "cell_type": "code",
   "execution_count": 55,
   "id": "d7334386",
   "metadata": {},
   "outputs": [
    {
     "name": "stderr",
     "output_type": "stream",
     "text": [
      "                                                                                \r"
     ]
    },
    {
     "name": "stdout",
     "output_type": "stream",
     "text": [
      "+--------------------+--------------------+--------------------+--------------------+-------------+--------------------+-------+----------+------------+--------------------+-----------+------------+-----+-----+\n",
      "|             address|          attributes|         business_id|          categories|         city|               hours|is_open|  latitude|   longitude|                name|postal_code|review_count|stars|state|\n",
      "+--------------------+--------------------+--------------------+--------------------+-------------+--------------------+-------+----------+------------+--------------------+-----------+------------+-----+-----+\n",
      "|1616 Chapala St, ...|{null, null, null...|Pns2l4eNsfO8kk83d...|Doctors, Traditio...|Santa Barbara|                null|      0|34.4266787|-119.7111968|Abby Rappoport, L...|      93101|           7|  5.0|   CA|\n",
      "|87 Grasso Plaza S...|{null, null, null...|mpf3x-BjTdTEA3yCZ...|Shipping Centers,...|       Affton|{8:0-18:30, 0:0-0...|      1| 38.551126|  -90.335695|       The UPS Store|      63123|          15|  3.0|   MO|\n",
      "|5255 E Broadway Blvd|{null, null, null...|tUFrWirKiKi_TAnsV...|Department Stores...|       Tucson|{8:0-23:0, 8:0-22...|      0| 32.223236| -110.880452|              Target|      85711|          22|  3.5|   AZ|\n",
      "|         935 Race St|{null, null, u'no...|MTSW4McQd7CbVtyjq...|Restaurants, Food...| Philadelphia|{7:0-21:0, 7:0-20...|      1|39.9555052| -75.1555641|  St Honore Pastries|      19107|          80|  4.0|   PA|\n",
      "|       101 Walnut St|{null, null, null...|mWMc6_wTdE0EUBKIG...|Brewpubs, Breweri...|   Green Lane|{12:0-22:0, null,...|      1|40.3381827| -75.4716585|Perkiomen Valley ...|      18054|          13|  4.5|   PA|\n",
      "+--------------------+--------------------+--------------------+--------------------+-------------+--------------------+-------+----------+------------+--------------------+-----------+------------+-----+-----+\n",
      "only showing top 5 rows\n",
      "\n"
     ]
    }
   ],
   "source": [
    "df_business = spark.read.json(path_business)\n",
    "df_business.show(5)"
   ]
  },
  {
   "cell_type": "code",
   "execution_count": 56,
   "id": "71f02bfc",
   "metadata": {},
   "outputs": [
    {
     "name": "stderr",
     "output_type": "stream",
     "text": [
      "[Stage 149:>                                                        (0 + 2) / 2]\r"
     ]
    },
    {
     "name": "stdout",
     "output_type": "stream",
     "text": [
      "+----------------------+----------------------------------+-------------+------------+-----+-------+\n",
      "|business_id           |name                              |city         |review_count|stars|is_open|\n",
      "+----------------------+----------------------------------+-------------+------------+-----+-------+\n",
      "|_ab50qdWOk0DdB6XOrBitw|Acme Oyster House                 |New Orleans  |7568        |4.0  |1      |\n",
      "|ac1AeYqs8Z4_e2X5M3if2A|Oceana Grill                      |New Orleans  |7400        |4.0  |1      |\n",
      "|GXFMD0Z4jEVZBCsbPf4CTQ|Hattie B’s Hot Chicken - Nashville|Nashville    |6093        |4.5  |1      |\n",
      "|ytynqOUb3hjKeJfRj5Tshw|Reading Terminal Market           |Philadelphia |5721        |4.5  |1      |\n",
      "|oBNrLz4EDhiscSlbOl8uAw|Ruby Slipper - New Orleans        |New Orleans  |5193        |4.5  |1      |\n",
      "|iSRTaT9WngzB8JJ2YKJUig|Mother's Restaurant               |New Orleans  |5185        |3.5  |1      |\n",
      "|VQcCL9PiNL_wkGf-uF3fjg|Royal House                       |New Orleans  |5070        |4.0  |1      |\n",
      "|_C7QiQQc47AOEv4PE3Kong|Commander's Palace                |New Orleans  |4876        |4.5  |1      |\n",
      "|GBTPC53ZrG1ZBY3DT8Mbcw|Luke                              |New Orleans  |4554        |4.0  |1      |\n",
      "|6a4gLLFSgr-Q6CZXDLzBGQ|Cochon                            |New Orleans  |4421        |4.0  |1      |\n",
      "|PP3BBaVxZLcJU54uP_wL6Q|Pat's King of Steaks              |Philadelphia |4250        |3.0  |1      |\n",
      "|1b5mnK8bMnnju_cvU65GqQ|Biscuit Love: Gulch               |Nashville    |4207        |4.0  |1      |\n",
      "|I_3LMZ_1m2mzR0oLIOePIg|Pappy's Smokehouse                |Saint Louis  |3999        |4.5  |1      |\n",
      "|VaO-VW3e1kARkU9bP1E7Fw|Felix's Restaurant & Oyster Bar   |New Orleans  |3966        |4.0  |1      |\n",
      "|qb28j-FNX1_6xm7u372TZA|Gumbo Shop                        |New Orleans  |3902        |4.0  |1      |\n",
      "|gTC8IQ_i8zXytWSly3Ttvg|Cochon Butcher                    |New Orleans  |3837        |4.5  |1      |\n",
      "|yPSejq3_erxo9zdVYTBnZA|Los Agaves                        |Santa Barbara|3834        |4.5  |1      |\n",
      "|VVH6k9-ycttH3TV_lk5WfQ|Willie Mae's Scotch House         |New Orleans  |3582        |4.5  |1      |\n",
      "|IkY2ticzHEn4QFn8hQLSWg|Geno's Steaks                     |Philadelphia |3401        |2.5  |1      |\n",
      "|wz8ZPfySQczcPgSyd33-HQ|Grand Sierra Resort and Casino    |Reno         |3345        |3.0  |1      |\n",
      "+----------------------+----------------------------------+-------------+------------+-----+-------+\n",
      "only showing top 20 rows\n",
      "\n"
     ]
    },
    {
     "name": "stderr",
     "output_type": "stream",
     "text": [
      "                                                                                \r"
     ]
    }
   ],
   "source": [
    "business = df_business.select(\"business_id\",\"name\",\"city\",\"review_count\",\"stars\",\"is_open\")\n",
    "business.orderBy(\"review_count\", ascending = False).show(20, False)"
   ]
  },
  {
   "cell_type": "code",
   "execution_count": 57,
   "id": "7b77770c",
   "metadata": {},
   "outputs": [],
   "source": [
    "Los_Agaves = df_review.where(col(\"business_id\")== \"wz8ZPfySQczcPgSyd33-HQ\").select(\"stars\",\"text\")\n",
    "Los_Agaves =  Los_Agaves.withColumnRenamed(\"text\",\"review\")"
   ]
  },
  {
   "cell_type": "code",
   "execution_count": 2,
   "id": "0afd5f57",
   "metadata": {},
   "outputs": [],
   "source": [
    "#Los_Agaves.show(10)"
   ]
  },
  {
   "cell_type": "code",
   "execution_count": 59,
   "id": "51deddc3",
   "metadata": {},
   "outputs": [
    {
     "name": "stderr",
     "output_type": "stream",
     "text": [
      "                                                                                \r"
     ]
    }
   ],
   "source": [
    "pipeline = Pipeline(stages=[tokenizer, remover, word2Vec])\n",
    "test1 = pipeline.fit(Los_Agaves).transform(Los_Agaves)\n",
    "test1 = test1.drop(*(\"review\", \"words\"))"
   ]
  },
  {
   "cell_type": "code",
   "execution_count": 113,
   "id": "3c30ce53",
   "metadata": {},
   "outputs": [],
   "source": [
    "#prediction_los = lrm.transform(test1)\n",
    "#prediction_los = rfcm.transform(test)\n",
    "\n",
    "prediction_los = rfModel.transform(test1)"
   ]
  },
  {
   "cell_type": "code",
   "execution_count": 114,
   "id": "e7f1ecd5",
   "metadata": {},
   "outputs": [
    {
     "name": "stderr",
     "output_type": "stream",
     "text": [
      "[Stage 733:============================================>          (16 + 4) / 20]\r"
     ]
    },
    {
     "name": "stdout",
     "output_type": "stream",
     "text": [
      "+-----+--------------------+--------------------+--------------------+--------------------+----------+\n",
      "|stars|            filtered|            features|       rawPrediction|         probability|prediction|\n",
      "+-----+--------------------+--------------------+--------------------+--------------------+----------+\n",
      "|  4.0|[great, families,...|[-0.0273056292355...|[9.39227865923178...|[0.46961393296158...|       1.0|\n",
      "|  2.0|[9/22/2018, anoth...|[-0.0096819550307...|[10.1840832517178...|[0.50920416258589...|       0.0|\n",
      "|  1.0|[stay, grand, sie...|[-0.0079846388827...|[11.5161587199767...|[0.57580793599883...|       0.0|\n",
      "|  4.0|[great, place, vi...|[-0.0198650150222...|[10.1999663649975...|[0.50999831824987...|       0.0|\n",
      "|  1.0|[stay, twice, yea...|[-0.0125115565024...|[11.3441991714903...|[0.56720995857451...|       0.0|\n",
      "|  1.0|[care, many, time...|[-0.0125751556544...|[11.3918583101965...|[0.56959291550982...|       0.0|\n",
      "|  3.0|[need, spot, spen...|[-0.0179621856226...|[9.75632104835854...|[0.48781605241792...|       1.0|\n",
      "|  3.0|[came, show, able...|[-0.0225959731436...|[11.1119447065484...|[0.55559723532742...|       0.0|\n",
      "|  3.0|[obviously, clean...|[-0.0264278822011...|[10.1042135788664...|[0.50521067894332...|       0.0|\n",
      "|  5.0|[know, little, ni...|[-0.0071330918555...|[8.88365404182924...|[0.44418270209146...|       1.0|\n",
      "+-----+--------------------+--------------------+--------------------+--------------------+----------+\n",
      "only showing top 10 rows\n",
      "\n"
     ]
    },
    {
     "name": "stderr",
     "output_type": "stream",
     "text": [
      "                                                                                \r"
     ]
    }
   ],
   "source": [
    "prediction_los.show(10)"
   ]
  },
  {
   "cell_type": "code",
   "execution_count": 115,
   "id": "22a9bc5e",
   "metadata": {},
   "outputs": [
    {
     "name": "stderr",
     "output_type": "stream",
     "text": [
      "[Stage 734:=====================================================> (39 + 1) / 40]\r"
     ]
    },
    {
     "name": "stdout",
     "output_type": "stream",
     "text": [
      "+----------+-----+\n",
      "|prediction|count|\n",
      "+----------+-----+\n",
      "|       0.0| 2582|\n",
      "|       1.0| 1052|\n",
      "+----------+-----+\n",
      "\n"
     ]
    },
    {
     "name": "stderr",
     "output_type": "stream",
     "text": [
      "                                                                                \r"
     ]
    }
   ],
   "source": [
    "prediction_los.groupby('prediction').count().show()"
   ]
  },
  {
   "cell_type": "code",
   "execution_count": 1,
   "id": "701317ae",
   "metadata": {},
   "outputs": [],
   "source": [
    "# What is the average number of reviews per business? \n",
    "\n",
    "\n",
    "#total_review_count=df_business.agg(F.sum(\"review_count\")).collect()[0][0]\n",
    "\n",
    "#total_business=df_business.select('business_id').distinct().count()\n",
    "\n",
    "#avg_review=total_review_count/total_business\n",
    "\n",
    "#print('the average number of reviews per business is :',avg_review)"
   ]
  },
  {
   "cell_type": "code",
   "execution_count": 49,
   "id": "53012deb",
   "metadata": {},
   "outputs": [
    {
     "name": "stderr",
     "output_type": "stream",
     "text": [
      "                                                                                \r"
     ]
    }
   ],
   "source": [
    "#What is the stars distribution? \n",
    "#x: star 1 to 5 ; y: num of reviews \n",
    "\n",
    "star_dist_plot=df_review.groupby('stars').count().toPandas()\n",
    "\n",
    "star_dist_plot=star_dist_plot.sort_values(by=['count'])"
   ]
  },
  {
   "cell_type": "code",
   "execution_count": 50,
   "id": "c4448d5b",
   "metadata": {},
   "outputs": [
    {
     "data": {
      "text/plain": [
       "Text(0, 0.5, 'Review_Count')"
      ]
     },
     "execution_count": 50,
     "metadata": {},
     "output_type": "execute_result"
    },
    {
     "data": {
      "image/png": "[encoded data removed]",
      "text/plain": [
       "<Figure size 720x432 with 1 Axes>"
      ]
     },
     "metadata": {
      "image/png": {
       "height": 388,
       "width": 615
      }
     },
     "output_type": "display_data"
    }
   ],
   "source": [
    "#Plotting \n",
    "\n",
    "# Set the figure size - handy for larger output\n",
    "from matplotlib import pyplot as plt\n",
    "plt.rcParams[\"figure.figsize\"] = [10, 6]\n",
    "# Set up with a higher resolution screen (useful on Mac)\n",
    "%config InlineBackend.figure_format = 'retina'\n",
    "\n",
    "from matplotlib import pyplot as plt\n",
    "star_dist_plot['count'].plot(kind=\"bar\", title=\"stars distribution\")\n",
    "\n",
    "plt.title(\"Stars Distribution\")\n",
    "plt.xlabel(\"Stars\")\n",
    "plt.ylabel(\"Review_Count\")"
   ]
  },
  {
   "cell_type": "markdown",
   "id": "4b75ecd7",
   "metadata": {},
   "source": [
    "#### User City"
   ]
  },
  {
   "cell_type": "code",
   "execution_count": 49,
   "id": "8d7180b6",
   "metadata": {},
   "outputs": [
    {
     "name": "stderr",
     "output_type": "stream",
     "text": [
      "                                                                                \r"
     ]
    },
    {
     "name": "stdout",
     "output_type": "stream",
     "text": [
      "+--------------------+--------------------+-------------+\n",
      "|         business_id|             user_id|         city|\n",
      "+--------------------+--------------------+-------------+\n",
      "|XQfwVwDr-v0ZS3_Cb...|mh_-eMZ6K5RLWhZyI...|  North Wales|\n",
      "|7ATYjTIgM3jUlt4UM...|OyoGAe7OKpv6SyGZT...| Philadelphia|\n",
      "|YjUWPpI6HXG530lwP...|8g_iMtfSiwikVnbP2...|       Tucson|\n",
      "|kxX2SOes4o-D3ZQBk...|_7bHUi9Uuf5__HHc_...| Philadelphia|\n",
      "|e4Vwtrqf-wpJfwesg...|bcjbaE6dDog4jkNY9...|  New Orleans|\n",
      "|04UD14gamNjLY0IDY...|eUta8W_HdHMXPzLBB...| Philadelphia|\n",
      "|gmjsEdUsKpj9Xxu6p...|r3zeYsv1XFBRA4dJp...|  New Orleans|\n",
      "|LHSTtnW3YHCeUkRDG...|yfFzsLmaWF2d4Sr0U...|   Quakertown|\n",
      "|B5XSoSG3SfvQGtKEG...|wSTuiTk-sKNdcFypr...|Santa Barbara|\n",
      "|gebiRewfieSdtt17P...|59MxRhNVhU9MYndMk...|Santa Barbara|\n",
      "|uMvVYRgGNXf5boolA...|1WHRWwQmZOZDAhp2Q...|        Tampa|\n",
      "|EQ-TZ2eeD_E0BHuvo...|ZbqSHbgCjzVAqaa7N...| Indianapolis|\n",
      "|lj-E32x9_FA7GmUrB...|9OAtfnWag-ajVxRbU...|     St Louis|\n",
      "|RZtGWDLCAtuipwaZ-...|smOvOajNG0lS4Pq7d...| Philadelphia|\n",
      "|otQS34_MymijPTdNB...|4Uh27DgGzsp6PqrH9...|       Tucson|\n",
      "|BVndHaLihEYbr76Z0...|1C2lxzUo1Hyye4RFI...|        Tampa|\n",
      "|YtSqYv1Q_pOltsVPS...|Dd1jQj7S-BFGqRbAp...| Philadelphia|\n",
      "|rBdG_23USc7DletfZ...|j2wlzrntrbKwyOcOi...|  Saint Louis|\n",
      "|CLEWowfkj-wKYJlQD...|NDZvyYHTUWWu-kqgQ...|        Tampa|\n",
      "|eFvzHawVJofxSnD7T...|IQsF3Rc6IgCzjVV9D...| Philadelphia|\n",
      "+--------------------+--------------------+-------------+\n",
      "only showing top 20 rows\n",
      "\n"
     ]
    }
   ],
   "source": [
    "business_city = df_business.select('business_id','city')\n",
    "review_bus_user  = df_review.select('business_id','user_id')\n",
    "user_city = review_bus_user.join(business_city, 'business_id')\n",
    "user_city.show()"
   ]
  },
  {
   "cell_type": "code",
   "execution_count": 50,
   "id": "dc371c7e",
   "metadata": {},
   "outputs": [
    {
     "name": "stderr",
     "output_type": "stream",
     "text": [
      "[Stage 62:====================================================>   (14 + 1) / 15]\r"
     ]
    },
    {
     "name": "stdout",
     "output_type": "stream",
     "text": [
      "+--------------------+------------+-----+\n",
      "|             user_id|        city|count|\n",
      "+--------------------+------------+-----+\n",
      "|0Igx-a1wAstiBDerG...| New Orleans| 1419|\n",
      "|_BcWyKQL16ndpBdgg...|Philadelphia| 1397|\n",
      "|ET8n-r7glWYqZhuR6...|Philadelphia| 1282|\n",
      "|Xw7ZjaGfr0WNVt6s_...| New Orleans| 1237|\n",
      "|bJ5FtCtZX3ZZacz2_...|Philadelphia| 1141|\n",
      "|1HM81n6n4iPIFU5d2...| New Orleans| 1077|\n",
      "|vHc-UrI9yfL_pnnc6...|        Reno|  977|\n",
      "|wXdbkFZsfDR7utJvb...|Indianapolis|  878|\n",
      "|fr1Hz2acAb3OaL3l6...|       Tampa|  857|\n",
      "|CfX4sTIFFNaRchNsw...| New Orleans|  840|\n",
      "+--------------------+------------+-----+\n",
      "only showing top 10 rows\n",
      "\n"
     ]
    },
    {
     "name": "stderr",
     "output_type": "stream",
     "text": [
      "                                                                                \r"
     ]
    }
   ],
   "source": [
    "user_city_df = user_city.groupby('user_id','city')\\\n",
    "               .count()\\\n",
    "               .sort(\"count\").orderBy([\"count\"], ascending=[0])\\\n",
    "               .show(10)\n"
   ]
  },
  {
   "cell_type": "code",
   "execution_count": 64,
   "id": "5775b6c9",
   "metadata": {},
   "outputs": [
    {
     "name": "stderr",
     "output_type": "stream",
     "text": [
      "                                                                                \r"
     ]
    },
    {
     "data": {
      "image/png": "[encoded data removed]",
      "text/plain": [
       "<Figure size 1440x720 with 1 Axes>"
      ]
     },
     "metadata": {
      "needs_background": "light"
     },
     "output_type": "display_data"
    }
   ],
   "source": [
    "business_cat = df_business.select('business_id','review_count','categories')\n",
    "cat_ct = business_cat.groupby('categories')\\\n",
    "         .agg(F.sum('review_count').alias('cat_sum'))\\\n",
    "         .sort(\"cat_sum\").orderBy([\"cat_sum\"], ascending=[0])\\\n",
    "         .limit(10).toPandas()\n",
    "              \n",
    "fig, ax = plt.subplots(figsize=(20,10))\n",
    "ax = sns.barplot(x='cat_sum', y='categories',data=cat_ct, palette=\"Blues_d\")"
   ]
  },
  {
   "cell_type": "markdown",
   "id": "11d3c6d3",
   "metadata": {},
   "source": [
    "# Text Preprocessing"
   ]
  },
  {
   "cell_type": "code",
   "execution_count": 24,
   "id": "95b1fc9a",
   "metadata": {},
   "outputs": [],
   "source": [
    "## remove special character: keeps only letters, space and numbers \n",
    "## PipeLine: Tokenization, stopword, word2vec, "
   ]
  },
  {
   "cell_type": "code",
   "execution_count": 25,
   "id": "87b94695",
   "metadata": {},
   "outputs": [
    {
     "name": "stdout",
     "output_type": "stream",
     "text": [
      "+--------------------+-------------------+-----+--------------------+\n",
      "|         business_id|               date|stars|                text|\n",
      "+--------------------+-------------------+-----+--------------------+\n",
      "|XQfwVwDr-v0ZS3_Cb...|2018-07-07 22:09:11|  3.0|If you decide to ...|\n",
      "|7ATYjTIgM3jUlt4UM...|2012-01-03 15:28:18|  5.0|I've taken a lot ...|\n",
      "|YjUWPpI6HXG530lwP...|2014-02-05 20:30:30|  3.0|Family diner. Had...|\n",
      "|kxX2SOes4o-D3ZQBk...|2015-01-04 00:01:03|  5.0|Wow!  Yummy, diff...|\n",
      "|e4Vwtrqf-wpJfwesg...|2017-01-14 20:54:15|  4.0|Cute interior and...|\n",
      "|04UD14gamNjLY0IDY...|2015-09-23 23:10:31|  1.0|I am a long term ...|\n",
      "|gmjsEdUsKpj9Xxu6p...|2015-01-03 23:21:18|  5.0|Loved this tour! ...|\n",
      "|LHSTtnW3YHCeUkRDG...|2015-08-07 02:29:16|  5.0|Amazingly amazing...|\n",
      "|B5XSoSG3SfvQGtKEG...|2016-03-30 22:46:33|  3.0|This easter inste...|\n",
      "|gebiRewfieSdtt17P...|2016-07-25 07:31:06|  3.0|Had a party of 6 ...|\n",
      "|uMvVYRgGNXf5boolA...|2015-06-21 14:48:06|  5.0|My experience wit...|\n",
      "|EQ-TZ2eeD_E0BHuvo...|2015-08-19 14:31:45|  4.0|Locals recommende...|\n",
      "|lj-E32x9_FA7GmUrB...|2014-06-27 22:44:01|  4.0|Love going here f...|\n",
      "|RZtGWDLCAtuipwaZ-...|2009-10-14 19:57:14|  4.0|Good food--loved ...|\n",
      "|otQS34_MymijPTdNB...|2011-10-27 17:12:05|  4.0|The bun makes the...|\n",
      "|BVndHaLihEYbr76Z0...|2014-10-11 16:22:06|  5.0|Great place for b...|\n",
      "|YtSqYv1Q_pOltsVPS...|2013-06-24 11:21:25|  5.0|Tremendous servic...|\n",
      "|rBdG_23USc7DletfZ...|2014-08-10 19:41:43|  4.0|The hubby and I h...|\n",
      "|CLEWowfkj-wKYJlQD...|2016-03-07 00:02:18|  5.0|I go to blow bar ...|\n",
      "|eFvzHawVJofxSnD7T...|2014-11-12 15:30:27|  5.0|My absolute favor...|\n",
      "+--------------------+-------------------+-----+--------------------+\n",
      "only showing top 20 rows\n",
      "\n"
     ]
    }
   ],
   "source": [
    "df_review.show()"
   ]
  },
  {
   "cell_type": "code",
   "execution_count": 26,
   "id": "ecbaccfb",
   "metadata": {},
   "outputs": [],
   "source": [
    "# remove special characters\n",
    "from pyspark.sql.functions import regexp_replace, col\n",
    "\n",
    "df_review=df_review.withColumn(\"text\", regexp_replace(col(\"text\"), \"'/[^a-z0-9 ]+/i'\", \" \"))"
   ]
  },
  {
   "cell_type": "markdown",
   "id": "5b1bb630",
   "metadata": {},
   "source": [
    "### Build pipeline for Tokenization, stopword, word2vec "
   ]
  },
  {
   "cell_type": "code",
   "execution_count": 31,
   "id": "530012f2",
   "metadata": {
    "scrolled": true
   },
   "outputs": [],
   "source": [
    "from pyspark.ml import Pipeline\n",
    "from pyspark.ml.feature import HashingTF, IDF, Tokenizer\n",
    "from pyspark.ml.feature import StopWordsRemover\n",
    "from pyspark.ml.feature import Word2Vec\n",
    "from pyspark.ml.feature import StringIndexer\n",
    "from pyspark.ml.feature import RegexTokenizer, StopWordsRemover, CountVectorizer\n",
    "from pyspark.ml.feature import HashingTF, IDF\n",
    "\n",
    "\n",
    "tokenizer = Tokenizer(inputCol=\"text\", outputCol=\"words\")  #tokenize words\n",
    "remover = StopWordsRemover(inputCol=\"words\", outputCol=\"filtered\")  #remove stop words\n",
    "word2Vec = Word2Vec(vectorSize=100, inputCol=\"filtered\", outputCol=\"features\")"
   ]
  },
  {
   "cell_type": "markdown",
   "id": "c9c7c30c",
   "metadata": {},
   "source": [
    "### Implement Pipeline"
   ]
  },
  {
   "cell_type": "code",
   "execution_count": null,
   "id": "1f42e653",
   "metadata": {},
   "outputs": [
    {
     "name": "stderr",
     "output_type": "stream",
     "text": [
      "22/03/08 02:23:56 WARN com.github.fommil.netlib.BLAS: Failed to load implementation from: com.github.fommil.netlib.NativeSystemBLAS\n",
      "22/03/08 02:23:56 WARN com.github.fommil.netlib.BLAS: Failed to load implementation from: com.github.fommil.netlib.NativeRefBLAS\n"
     ]
    }
   ],
   "source": [
    "pipeline = Pipeline(stages=[tokenizer, remover, word2Vec])\n",
    "df_review_nlp = pipeline.fit(df_review).transform(df_review)"
   ]
  },
  {
   "cell_type": "code",
   "execution_count": null,
   "id": "084fbfbc",
   "metadata": {},
   "outputs": [
    {
     "name": "stderr",
     "output_type": "stream",
     "text": [
      "[Stage 46:>                                                         (0 + 1) / 1]\r"
     ]
    },
    {
     "name": "stdout",
     "output_type": "stream",
     "text": [
      "+--------------------+-------------------+-----+--------------------+--------------------+--------------------+--------------------+\n",
      "|         business_id|               date|stars|                text|               words|            filtered|            features|\n",
      "+--------------------+-------------------+-----+--------------------+--------------------+--------------------+--------------------+\n",
      "|XQfwVwDr-v0ZS3_Cb...|2018-07-07 22:09:11|  3.0|If you decide to ...|[if, you, decide,...|[decide, eat, her...|[-0.0793677092985...|\n",
      "|7ATYjTIgM3jUlt4UM...|2012-01-03 15:28:18|  5.0|I've taken a lot ...|[i've, taken, a, ...|[taken, lot, spin...|[-0.1070387071258...|\n",
      "|YjUWPpI6HXG530lwP...|2014-02-05 20:30:30|  3.0|Family diner. Had...|[family, diner., ...|[family, diner., ...|[-0.0721996549051...|\n",
      "|kxX2SOes4o-D3ZQBk...|2015-01-04 00:01:03|  5.0|Wow!  Yummy, diff...|[wow!, , yummy,, ...|[wow!, , yummy,, ...|[-0.0934847491153...|\n",
      "|e4Vwtrqf-wpJfwesg...|2017-01-14 20:54:15|  4.0|Cute interior and...|[cute, interior, ...|[cute, interior, ...|[-0.0170143428023...|\n",
      "|04UD14gamNjLY0IDY...|2015-09-23 23:10:31|  1.0|I am a long term ...|[i, am, a, long, ...|[long, term, freq...|[-0.1099765642822...|\n",
      "|gmjsEdUsKpj9Xxu6p...|2015-01-03 23:21:18|  5.0|Loved this tour! ...|[loved, this, tou...|[loved, tour!, gr...|[-0.1200459418073...|\n",
      "|LHSTtnW3YHCeUkRDG...|2015-08-07 02:29:16|  5.0|Amazingly amazing...|[amazingly, amazi...|[amazingly, amazi...|[-0.0141022716648...|\n",
      "|B5XSoSG3SfvQGtKEG...|2016-03-30 22:46:33|  3.0|This easter inste...|[this, easter, in...|[easter, instead,...|[-0.1082786932898...|\n",
      "|gebiRewfieSdtt17P...|2016-07-25 07:31:06|  3.0|Had a party of 6 ...|[had, a, party, o...|[party, 6, hibach...|[-0.0681827563452...|\n",
      "|uMvVYRgGNXf5boolA...|2015-06-21 14:48:06|  5.0|My experience wit...|[my, experience, ...|[experience, shal...|[-0.0891249170798...|\n",
      "|EQ-TZ2eeD_E0BHuvo...|2015-08-19 14:31:45|  4.0|Locals recommende...|[locals, recommen...|[locals, recommen...|[0.00690276883542...|\n",
      "|lj-E32x9_FA7GmUrB...|2014-06-27 22:44:01|  4.0|Love going here f...|[love, going, her...|[love, going, hap...|[-0.0602086149311...|\n",
      "|RZtGWDLCAtuipwaZ-...|2009-10-14 19:57:14|  4.0|Good food--loved ...|[good, food--love...|[good, food--love...|[-0.1264389095663...|\n",
      "|otQS34_MymijPTdNB...|2011-10-27 17:12:05|  4.0|The bun makes the...|[the, bun, makes,...|[bun, makes, sono...|[0.00383048909051...|\n",
      "|BVndHaLihEYbr76Z0...|2014-10-11 16:22:06|  5.0|Great place for b...|[great, place, fo...|[great, place, br...|[-0.0292090748747...|\n",
      "|YtSqYv1Q_pOltsVPS...|2013-06-24 11:21:25|  5.0|Tremendous servic...|[tremendous, serv...|[tremendous, serv...|[-0.0202072507624...|\n",
      "|rBdG_23USc7DletfZ...|2014-08-10 19:41:43|  4.0|The hubby and I h...|[the, hubby, and,...|[hubby, multiple,...|[-0.1246090334717...|\n",
      "|CLEWowfkj-wKYJlQD...|2016-03-07 00:02:18|  5.0|I go to blow bar ...|[i, go, to, blow,...|[go, blow, bar, g...|[-0.0645319720774...|\n",
      "|eFvzHawVJofxSnD7T...|2014-11-12 15:30:27|  5.0|My absolute favor...|[my, absolute, fa...|[absolute, favori...|[-0.0165571239890...|\n",
      "+--------------------+-------------------+-----+--------------------+--------------------+--------------------+--------------------+\n",
      "only showing top 20 rows\n",
      "\n"
     ]
    },
    {
     "name": "stderr",
     "output_type": "stream",
     "text": [
      "                                                                                \r"
     ]
    }
   ],
   "source": [
    "df_review_nlp.show()"
   ]
  },
  {
   "cell_type": "markdown",
   "id": "5c80f6f1",
   "metadata": {},
   "source": [
    "Review Analysis (Good/Bad)"
   ]
  },
  {
   "cell_type": "code",
   "execution_count": 282,
   "id": "d80057de",
   "metadata": {},
   "outputs": [
    {
     "name": "stdout",
     "output_type": "stream",
     "text": [
      "+--------------------+----+-------------------+-----+--------------------+-----+--------------------+------+--------------------+-----+\n",
      "|         business_id|cool|               date|funny|           review_id|stars|                text|useful|             user_id|label|\n",
      "+--------------------+----+-------------------+-----+--------------------+-----+--------------------+------+--------------------+-----+\n",
      "|XQfwVwDr-v0ZS3_Cb...|   0|2018-07-07 22:09:11|    0|KU_O5udG6zpxOg-Vc...|  3.0|If you decide to ...|     0|mh_-eMZ6K5RLWhZyI...|  3.0|\n",
      "|7ATYjTIgM3jUlt4UM...|   1|2012-01-03 15:28:18|    0|BiTunyQ73aT9WBnpR...|  5.0|I've taken a lot ...|     1|OyoGAe7OKpv6SyGZT...|  5.0|\n",
      "|YjUWPpI6HXG530lwP...|   0|2014-02-05 20:30:30|    0|saUsX_uimxRlCVr67...|  3.0|Family diner. Had...|     0|8g_iMtfSiwikVnbP2...|  3.0|\n",
      "|kxX2SOes4o-D3ZQBk...|   1|2015-01-04 00:01:03|    0|AqPFMleE6RsU23_au...|  5.0|Wow!  Yummy, diff...|     1|_7bHUi9Uuf5__HHc_...|  5.0|\n",
      "|e4Vwtrqf-wpJfwesg...|   1|2017-01-14 20:54:15|    0|Sx8TMOWLNuJBWer-0...|  4.0|Cute interior and...|     1|bcjbaE6dDog4jkNY9...|  4.0|\n",
      "+--------------------+----+-------------------+-----+--------------------+-----+--------------------+------+--------------------+-----+\n",
      "only showing top 5 rows\n",
      "\n"
     ]
    }
   ],
   "source": [
    "df_review_aspect = df_review.withColumn(\"label\", df_review[\"stars\"].cast(\"double\"))\n",
    "df_review_aspect.show(5)"
   ]
  }
 ],
 "metadata": {
  "kernelspec": {
   "display_name": "Python 3",
   "language": "python",
   "name": "python3"
  },
  "language_info": {
   "codemirror_mode": {
    "name": "ipython",
    "version": 3
   },
   "file_extension": ".py",
   "mimetype": "text/x-python",
   "name": "python",
   "nbconvert_exporter": "python",
   "pygments_lexer": "ipython3",
   "version": "3.8.8"
  }
 },
 "nbformat": 4,
 "nbformat_minor": 5
}
